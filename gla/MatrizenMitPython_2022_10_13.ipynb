{
 "cells": [
  {
   "cell_type": "markdown",
   "id": "d8fdb284",
   "metadata": {},
   "source": [
    "# Matrizen in Python"
   ]
  },
  {
   "cell_type": "markdown",
   "id": "1fd18c1d",
   "metadata": {},
   "source": [
    "## Matrizen erstellen (sympy.Matrix() bzw. numpy.array())"
   ]
  },
  {
   "cell_type": "code",
   "execution_count": 1,
   "id": "3714f2e8",
   "metadata": {},
   "outputs": [],
   "source": [
    "import sympy as sym\n",
    "import numpy as np\n",
    "import matplotlib.pyplot as plt"
   ]
  },
  {
   "cell_type": "code",
   "execution_count": 2,
   "id": "90b460e8",
   "metadata": {},
   "outputs": [
    {
     "name": "stdout",
     "output_type": "stream",
     "text": [
      "[[0 6 6 5 4 4 1 0 0]\n",
      " [0 0 5 6 5 3 3 2 0]]\n"
     ]
    }
   ],
   "source": [
    "kirche = np.array([[0,6,6,5,4,4,1,0,0],[0,0,5,6,5,3,3,2,0]])\n",
    "print(kirche)"
   ]
  },
  {
   "cell_type": "code",
   "execution_count": 3,
   "id": "4ac110a8",
   "metadata": {},
   "outputs": [
    {
     "name": "stdout",
     "output_type": "stream",
     "text": [
      "Matrix([[cos(phi), -sin(phi)], [sin(phi), cos(phi)]])\n"
     ]
    }
   ],
   "source": [
    "phi = sym.symbols('phi')\n",
    "D = sym.Matrix([[sym.cos(phi),-sym.sin(phi)],[sym.sin(phi),sym.cos(phi)]])\n",
    "print(D)"
   ]
  },
  {
   "cell_type": "markdown",
   "id": "e85475e7",
   "metadata": {},
   "source": [
    "## Vordefinierte Matrizen"
   ]
  },
  {
   "cell_type": "code",
   "execution_count": 4,
   "id": "45da1b09",
   "metadata": {},
   "outputs": [
    {
     "name": "stdout",
     "output_type": "stream",
     "text": [
      "[[1. 0. 0. 0.]\n",
      " [0. 1. 0. 0.]\n",
      " [0. 0. 1. 0.]\n",
      " [0. 0. 0. 1.]]\n"
     ]
    }
   ],
   "source": [
    "print(np.eye(4))"
   ]
  },
  {
   "cell_type": "code",
   "execution_count": 6,
   "id": "6018c410",
   "metadata": {},
   "outputs": [
    {
     "name": "stdout",
     "output_type": "stream",
     "text": [
      "[[1. 0. 0. 0. 0.]\n",
      " [0. 1. 0. 0. 0.]\n",
      " [0. 0. 1. 0. 0.]]\n"
     ]
    }
   ],
   "source": [
    "print(np.eye(3,5))"
   ]
  },
  {
   "cell_type": "code",
   "execution_count": 10,
   "id": "1bb314f6",
   "metadata": {},
   "outputs": [
    {
     "name": "stdout",
     "output_type": "stream",
     "text": [
      "[[1. 1. 1. 1.]\n",
      " [1. 1. 1. 1.]\n",
      " [1. 1. 1. 1.]\n",
      " [1. 1. 1. 1.]]\n"
     ]
    }
   ],
   "source": [
    "print(np.ones((4,4)))"
   ]
  },
  {
   "cell_type": "code",
   "execution_count": 11,
   "id": "0a4d2e17",
   "metadata": {},
   "outputs": [
    {
     "name": "stdout",
     "output_type": "stream",
     "text": [
      "[[0. 0. 0. 0.]\n",
      " [0. 0. 0. 0.]]\n"
     ]
    }
   ],
   "source": [
    "print(np.zeros((2,4)))"
   ]
  },
  {
   "cell_type": "markdown",
   "id": "80b5a130",
   "metadata": {},
   "source": [
    "## Dimension / Grösse einer Matrix"
   ]
  },
  {
   "cell_type": "code",
   "execution_count": 12,
   "id": "debb9767",
   "metadata": {},
   "outputs": [
    {
     "name": "stdout",
     "output_type": "stream",
     "text": [
      "(2, 9)\n",
      "(2, 2)\n"
     ]
    }
   ],
   "source": [
    "print(kirche.shape)\n",
    "print(D.shape)"
   ]
  },
  {
   "cell_type": "code",
   "execution_count": 14,
   "id": "8df6bedf",
   "metadata": {},
   "outputs": [
    {
     "name": "stdout",
     "output_type": "stream",
     "text": [
      "2\n",
      "9\n"
     ]
    }
   ],
   "source": [
    "anzZeilen,anzSpalten = kirche.shape\n",
    "print(anzZeilen)\n",
    "print(anzSpalten)"
   ]
  },
  {
   "cell_type": "markdown",
   "id": "9a599a9b",
   "metadata": {},
   "source": [
    "## Zugriff auf Elemente und Bereiche"
   ]
  },
  {
   "cell_type": "code",
   "execution_count": 15,
   "id": "37f3757f",
   "metadata": {},
   "outputs": [
    {
     "name": "stdout",
     "output_type": "stream",
     "text": [
      "6\n"
     ]
    }
   ],
   "source": [
    "kirche_13 = kirche[0,2]\n",
    "print(kirche_13)"
   ]
  },
  {
   "cell_type": "code",
   "execution_count": 16,
   "id": "aa8a02b4",
   "metadata": {},
   "outputs": [
    {
     "name": "stdout",
     "output_type": "stream",
     "text": [
      "[0 6 6 5 4 4 1 0 0]\n",
      "[0 0 5 6 5 3 3 2 0]\n"
     ]
    }
   ],
   "source": [
    "xx = kirche[0,:]\n",
    "print(xx)\n",
    "yy = kirche[1,:]\n",
    "print(yy)"
   ]
  },
  {
   "cell_type": "code",
   "execution_count": 17,
   "id": "55e4b2d9",
   "metadata": {},
   "outputs": [
    {
     "data": {
      "text/plain": [
       "[<matplotlib.lines.Line2D at 0x17712562c10>]"
      ]
     },
     "execution_count": 17,
     "metadata": {},
     "output_type": "execute_result"
    },
    {
     "data": {
      "image/png": "[encoded data removed]",
      "text/plain": [
       "<Figure size 432x288 with 1 Axes>"
      ]
     },
     "metadata": {
      "needs_background": "light"
     },
     "output_type": "display_data"
    }
   ],
   "source": [
    "plt.plot(xx,yy,'r*-')"
   ]
  },
  {
   "cell_type": "markdown",
   "id": "d752393f",
   "metadata": {},
   "source": [
    "## Rechenoperationen"
   ]
  },
  {
   "cell_type": "code",
   "execution_count": 18,
   "id": "0caf3478",
   "metadata": {},
   "outputs": [
    {
     "name": "stdout",
     "output_type": "stream",
     "text": [
      "Summe: [[0 2 8]\n",
      " [8 4 0]]\n"
     ]
    }
   ],
   "source": [
    "A = np.array([[1,2,3],[2,3,4]])\n",
    "B = np.array([[-1,0,5],[6,1,-4]])\n",
    "\n",
    "print('Summe: {}'.format(A+B))"
   ]
  },
  {
   "cell_type": "code",
   "execution_count": 19,
   "id": "c298b760",
   "metadata": {},
   "outputs": [
    {
     "ename": "ValueError",
     "evalue": "operands could not be broadcast together with shapes (2,9) (2,3) ",
     "output_type": "error",
     "traceback": [
      "\u001b[1;31m---------------------------------------------------------------------------\u001b[0m",
      "\u001b[1;31mValueError\u001b[0m                                Traceback (most recent call last)",
      "\u001b[1;32m~\\AppData\\Local\\Temp\\ipykernel_13208\\1497386094.py\u001b[0m in \u001b[0;36m<cell line: 1>\u001b[1;34m()\u001b[0m\n\u001b[1;32m----> 1\u001b[1;33m \u001b[0mprint\u001b[0m\u001b[1;33m(\u001b[0m\u001b[0mkirche\u001b[0m\u001b[1;33m+\u001b[0m\u001b[0mA\u001b[0m\u001b[1;33m)\u001b[0m\u001b[1;33m\u001b[0m\u001b[1;33m\u001b[0m\u001b[0m\n\u001b[0m",
      "\u001b[1;31mValueError\u001b[0m: operands could not be broadcast together with shapes (2,9) (2,3) "
     ]
    }
   ],
   "source": [
    "print(kirche+A)"
   ]
  },
  {
   "cell_type": "code",
   "execution_count": 20,
   "id": "3c05bf5f",
   "metadata": {},
   "outputs": [
    {
     "name": "stdout",
     "output_type": "stream",
     "text": [
      "Produkt mit Skalar: [[ 3  6  9]\n",
      " [ 6  9 12]]\n"
     ]
    }
   ],
   "source": [
    "print('Produkt mit Skalar: {}'.format(3*A))"
   ]
  },
  {
   "cell_type": "markdown",
   "id": "9c50199a",
   "metadata": {},
   "source": [
    "## Matrizenprodukt"
   ]
  },
  {
   "cell_type": "code",
   "execution_count": 21,
   "id": "04a988d8",
   "metadata": {},
   "outputs": [
    {
     "name": "stdout",
     "output_type": "stream",
     "text": [
      "[[0.64 0.6 ]\n",
      " [0.36 0.4 ]]\n",
      "[[0.64 0.6 ]\n",
      " [0.36 0.4 ]]\n"
     ]
    }
   ],
   "source": [
    "M = np.array([[0.7,0.5],[0.3,0.5]])\n",
    "print(np.dot(M,M))\n",
    "print(M@M)"
   ]
  },
  {
   "cell_type": "code",
   "execution_count": 22,
   "id": "af0f35fc",
   "metadata": {},
   "outputs": [
    {
     "ename": "ValueError",
     "evalue": "matmul: Input operand 1 has a mismatch in its core dimension 0, with gufunc signature (n?,k),(k,m?)->(n?,m?) (size 2 is different from 3)",
     "output_type": "error",
     "traceback": [
      "\u001b[1;31m---------------------------------------------------------------------------\u001b[0m",
      "\u001b[1;31mValueError\u001b[0m                                Traceback (most recent call last)",
      "\u001b[1;32m~\\AppData\\Local\\Temp\\ipykernel_13208\\3893679919.py\u001b[0m in \u001b[0;36m<cell line: 1>\u001b[1;34m()\u001b[0m\n\u001b[1;32m----> 1\u001b[1;33m \u001b[0mprint\u001b[0m\u001b[1;33m(\u001b[0m\u001b[0mA\u001b[0m\u001b[1;33m@\u001b[0m\u001b[0mA\u001b[0m\u001b[1;33m)\u001b[0m\u001b[1;33m\u001b[0m\u001b[1;33m\u001b[0m\u001b[0m\n\u001b[0m",
      "\u001b[1;31mValueError\u001b[0m: matmul: Input operand 1 has a mismatch in its core dimension 0, with gufunc signature (n?,k),(k,m?)->(n?,m?) (size 2 is different from 3)"
     ]
    }
   ],
   "source": [
    "print(A@A)"
   ]
  },
  {
   "cell_type": "markdown",
   "id": "8b64a60c",
   "metadata": {},
   "source": [
    "## Es gibt viele weitere Befehle (rank, inv, det, transpose, ...)"
   ]
  },
  {
   "cell_type": "markdown",
   "id": "3bc074dd",
   "metadata": {},
   "source": [
    "## Und nocheinmal die Kirche"
   ]
  },
  {
   "cell_type": "code",
   "execution_count": 23,
   "id": "151b07b1",
   "metadata": {},
   "outputs": [
    {
     "data": {
      "text/plain": [
       "[<matplotlib.lines.Line2D at 0x1771363dcd0>,\n",
       " <matplotlib.lines.Line2D at 0x1771363dd90>]"
      ]
     },
     "execution_count": 23,
     "metadata": {},
     "output_type": "execute_result"
    },
    {
     "data": {
      "image/png": "[encoded data removed]",
      "text/plain": [
       "<Figure size 432x288 with 1 Axes>"
      ]
     },
     "metadata": {
      "needs_background": "light"
     },
     "output_type": "display_data"
    }
   ],
   "source": [
    "S = np.array([[-1,0],[0,1]])\n",
    "kircheNeu = S@kirche\n",
    "plt.plot(xx,yy,'r*-',kircheNeu[0,:],kircheNeu[1,:],'b*--')"
   ]
  },
  {
   "cell_type": "code",
   "execution_count": 24,
   "id": "ce349e80",
   "metadata": {},
   "outputs": [
    {
     "data": {
      "text/plain": [
       "[<matplotlib.lines.Line2D at 0x177136b1cd0>,\n",
       " <matplotlib.lines.Line2D at 0x177136b1d90>]"
      ]
     },
     "execution_count": 24,
     "metadata": {},
     "output_type": "execute_result"
    },
    {
     "data": {
      "image/png": "[encoded data removed]",
      "text/plain": [
       "<Figure size 432x288 with 1 Axes>"
      ]
     },
     "metadata": {
      "needs_background": "light"
     },
     "output_type": "display_data"
    }
   ],
   "source": [
    "D = np.array([[np.cos(np.pi/3),-np.sin(np.pi/3)],[np.sin(np.pi/3),np.cos(np.pi/3)]])\n",
    "kircheNeu = D@kirche\n",
    "plt.plot(xx,yy,'r*-',kircheNeu[0,:],kircheNeu[1,:],'b*--')"
   ]
  },
  {
   "cell_type": "code",
   "execution_count": 25,
   "id": "7d5ea5f5",
   "metadata": {},
   "outputs": [
    {
     "name": "stdout",
     "output_type": "stream",
     "text": [
      "[[100  75  50 150]\n",
      " [ 20  50  75  50]\n",
      " [ 75  60  30 100]]\n"
     ]
    }
   ],
   "source": [
    "D = np.array([[100,75,50,150],[20,50,75,50],[75,60,30,100]])\n",
    "print(D)"
   ]
  },
  {
   "cell_type": "code",
   "execution_count": 26,
   "id": "e529b761",
   "metadata": {},
   "outputs": [
    {
     "name": "stdout",
     "output_type": "stream",
     "text": [
      "[[195 185 155 300]]\n"
     ]
    }
   ],
   "source": [
    "print(np.array([[1,1,1]])@D)   #Umsatz pro Quartal"
   ]
  },
  {
   "cell_type": "code",
   "execution_count": 27,
   "id": "664594a8",
   "metadata": {},
   "outputs": [
    {
     "name": "stdout",
     "output_type": "stream",
     "text": [
      "[[375]\n",
      " [195]\n",
      " [265]]\n"
     ]
    }
   ],
   "source": [
    "print(D@np.array([[1],[1],[1],[1]]))   #Umsatz nach Sparte"
   ]
  },
  {
   "cell_type": "code",
   "execution_count": 28,
   "id": "023d78bd",
   "metadata": {},
   "outputs": [
    {
     "name": "stdout",
     "output_type": "stream",
     "text": [
      "[[835]]\n"
     ]
    }
   ],
   "source": [
    "print(np.array([[1,1,1]])@D@np.array([[1],[1],[1],[1]]))   #Gesamtumsatz Davos"
   ]
  },
  {
   "cell_type": "code",
   "execution_count": null,
   "id": "4a03b415",
   "metadata": {},
   "outputs": [],
   "source": []
  }
 ],
 "metadata": {
  "kernelspec": {
   "display_name": "Python 3 (ipykernel)",
   "language": "python",
   "name": "python3"
  },
  "language_info": {
   "codemirror_mode": {
    "name": "ipython",
    "version": 3
   },
   "file_extension": ".py",
   "mimetype": "text/x-python",
   "name": "python",
   "nbconvert_exporter": "python",
   "pygments_lexer": "ipython3",
   "version": "3.9.10"
  }
 },
 "nbformat": 4,
 "nbformat_minor": 5
}
