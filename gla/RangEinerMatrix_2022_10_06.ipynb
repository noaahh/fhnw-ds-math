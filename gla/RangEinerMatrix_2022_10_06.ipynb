{
 "cells": [
  {
   "cell_type": "markdown",
   "id": "c3c6cf64",
   "metadata": {},
   "source": [
    "# Rang mit sympy.rank()"
   ]
  },
  {
   "cell_type": "markdown",
   "id": "035816d9",
   "metadata": {},
   "source": [
    "## reguläres System\n",
    "\n",
    "Beispiel:\n",
    "\n",
    "$$\\left|\\begin{array}{ccc}4x+y-3z&=&9\\\\2x-3y+z&=&-5\\\\x+2y+2z&=&3\\end{array}\\right|\n",
    "$$"
   ]
  },
  {
   "cell_type": "code",
   "execution_count": 1,
   "id": "34b392f7",
   "metadata": {},
   "outputs": [
    {
     "name": "stdout",
     "output_type": "stream",
     "text": [
      "Anzahl Unbekannte: n=3\n",
      "Rang der Koeffizientenmatrix: rg(A)=3\n",
      "Rang der erweiterten Koeffizientenmatrix: rg(Ab)=3\n",
      "\n",
      "Da der Rang der Koeffizientenmatrix mit der Anzahl der Unbekannten übereinstimmt, ist das System regulär!\n",
      "\n",
      "x=1\n",
      "y=2\n",
      "z=-1\n"
     ]
    }
   ],
   "source": [
    "import sympy as sym\n",
    "A = sym.Matrix([[4,1,-3],[2,-3,1],[1,2,2]])\n",
    "rg_A = A.rank()\n",
    "Ab = sym.Matrix([[4,1,-3,9],[2,-3,1,-5],[1,2,2,3]])\n",
    "rg_Ab = Ab.rank()\n",
    "print('Anzahl Unbekannte: n=3')\n",
    "print('Rang der Koeffizientenmatrix: rg(A)={}'.format(rg_A))\n",
    "print('Rang der erweiterten Koeffizientenmatrix: rg(Ab)={}'.format(rg_Ab))\n",
    "print('')\n",
    "print('Da der Rang der Koeffizientenmatrix mit der Anzahl der Unbekannten übereinstimmt, ist das System regulär!')\n",
    "print('')\n",
    "Ab_red = Ab.rref()[0]\n",
    "print('x={}'.format(Ab_red[0,3]))\n",
    "print('y={}'.format(Ab_red[1,3]))\n",
    "print('z={}'.format(Ab_red[2,3]))\n",
    "\n"
   ]
  },
  {
   "cell_type": "markdown",
   "id": "5910ce13",
   "metadata": {},
   "source": [
    "## singulares-unterbestimmtes System\n",
    "\n",
    "Beispiel:\n",
    "\n",
    "$$\\left|\\begin{array}{ccc}3x+2y-z&=&1\\\\2x-y+3z&=&2\\\\4x+5y-5z&=&0\\end{array}\\right|\n",
    "$$"
   ]
  },
  {
   "cell_type": "code",
   "execution_count": 2,
   "id": "b9ae87da",
   "metadata": {},
   "outputs": [
    {
     "name": "stdout",
     "output_type": "stream",
     "text": [
      "Anzahl Unbekannte: n=3\n",
      "Rang der Koeffizientenmatrix: rg(A)=2\n",
      "Rang der erweiterten Koeffizientenmatrix: rg(Ab)=2\n",
      "\n",
      "Da der Rang der Koeffizientenmatrix kleiner als die Anzahl der Unbekannten ist, ist das System singulär!\n",
      "Da rg(A)=rg(Ab) gilt, ist das System unterbestimmt!\n",
      "\n",
      "x=5/7-(5/7)z\n",
      "x=-4/7-(-11/7)z\n",
      "z=z\n"
     ]
    }
   ],
   "source": [
    "A = sym.Matrix([[3,2,-1],[2,-1,3],[4,5,-5]])\n",
    "rg_A = A.rank()\n",
    "Ab = sym.Matrix([[3,2,-1,1],[2,-1,3,2],[4,5,-5,0]])\n",
    "rg_Ab = Ab.rank()\n",
    "print('Anzahl Unbekannte: n=3')\n",
    "print('Rang der Koeffizientenmatrix: rg(A)={}'.format(rg_A))\n",
    "print('Rang der erweiterten Koeffizientenmatrix: rg(Ab)={}'.format(rg_Ab))\n",
    "print('')\n",
    "print('Da der Rang der Koeffizientenmatrix kleiner als die Anzahl der Unbekannten ist, ist das System singulär!')\n",
    "print('Da rg(A)=rg(Ab) gilt, ist das System unterbestimmt!')\n",
    "print('')\n",
    "Ab_red = Ab.rref()[0]\n",
    "print('x={}-({})z'.format(Ab_red[0,3],Ab_red[0,2]))\n",
    "print('x={}-({})z'.format(Ab_red[1,3],Ab_red[1,2]))\n",
    "print('z=z')\n"
   ]
  },
  {
   "cell_type": "markdown",
   "id": "ea348d5e",
   "metadata": {},
   "source": [
    "## singulares-widersprüchliches System\n",
    "\n",
    "Beispiel:\n",
    "\n",
    "$$\\left|\\begin{array}{ccc}x+y+3z&=&1\\\\2x-3y+z&=&-2\\\\2x+7y+11z&=&5\\end{array}\\right|\n",
    "$$"
   ]
  },
  {
   "cell_type": "code",
   "execution_count": 3,
   "id": "b318e970",
   "metadata": {},
   "outputs": [
    {
     "name": "stdout",
     "output_type": "stream",
     "text": [
      "Anzahl Unbekannte: n=3\n",
      "Rang der Koeffizientenmatrix: rg(A)=2\n",
      "Rang der erweiterten Koeffizientenmatrix: rg(Ab)=3\n",
      "\n",
      "Da der Rang der Koeffizientenmatrix kleiner als die Anzahl der Unbekannten ist, ist das System singulär!\n",
      "Da rg(A)<rg(Ab) gilt, ist das System widersprüchlich!\n",
      "\n",
      "L={}\n"
     ]
    }
   ],
   "source": [
    "A = sym.Matrix([[1,1,3],[2,-3,1],[2,7,11]])\n",
    "rg_A = A.rank()\n",
    "Ab = sym.Matrix([[1,1,3,1],[2,-3,1,-2],[2,7,11,5]])\n",
    "rg_Ab = Ab.rank()\n",
    "print('Anzahl Unbekannte: n=3')\n",
    "print('Rang der Koeffizientenmatrix: rg(A)={}'.format(rg_A))\n",
    "print('Rang der erweiterten Koeffizientenmatrix: rg(Ab)={}'.format(rg_Ab))\n",
    "print('')\n",
    "print('Da der Rang der Koeffizientenmatrix kleiner als die Anzahl der Unbekannten ist, ist das System singulär!')\n",
    "print('Da rg(A)<rg(Ab) gilt, ist das System widersprüchlich!')\n",
    "print('')\n",
    "print('L={}')"
   ]
  },
  {
   "cell_type": "code",
   "execution_count": 3,
   "id": "3009b51b",
   "metadata": {},
   "outputs": [],
   "source": []
  }
 ],
 "metadata": {
  "kernelspec": {
   "display_name": "Python 3 (ipykernel)",
   "language": "python",
   "name": "python3"
  },
  "language_info": {
   "codemirror_mode": {
    "name": "ipython",
    "version": 3
   },
   "file_extension": ".py",
   "mimetype": "text/x-python",
   "name": "python",
   "nbconvert_exporter": "python",
   "pygments_lexer": "ipython3",
   "version": "3.9.10"
  }
 },
 "nbformat": 4,
 "nbformat_minor": 5
}
