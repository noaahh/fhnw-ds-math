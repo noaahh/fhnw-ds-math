{
 "cells": [
  {
   "cell_type": "code",
   "execution_count": 1,
   "id": "e4e1545d",
   "metadata": {},
   "outputs": [],
   "source": [
    "import sympy as sym\n",
    "# Variablen\n",
    "b11 = sym.symbols('b11')\n",
    "b12 = sym.symbols('b12')\n",
    "b13 = sym.symbols('b13')\n",
    "b21 = sym.symbols('b21')\n",
    "b22 = sym.symbols('b22')\n",
    "b23 = sym.symbols('b23')\n",
    "b31 = sym.symbols('b31')\n",
    "b32 = sym.symbols('b32')\n",
    "b33 = sym.symbols('b33')\n"
   ]
  },
  {
   "cell_type": "code",
   "execution_count": 2,
   "id": "dc5551ee",
   "metadata": {},
   "outputs": [
    {
     "name": "stdout",
     "output_type": "stream",
     "text": [
      "Matrix([[b11, b12, b13], [b21, b22, b23], [b31, b32, b33]])\n"
     ]
    }
   ],
   "source": [
    "B=sym.Matrix([[b11,b12,b13],[b21,b22,b23],[b31,b32,b33]])\n",
    "print(B)"
   ]
  },
  {
   "cell_type": "code",
   "execution_count": 3,
   "id": "f77a7ba9",
   "metadata": {},
   "outputs": [
    {
     "name": "stdout",
     "output_type": "stream",
     "text": [
      "Matrix([[1, 1, 1], [1, 1, 0], [1, 0, 0]])\n"
     ]
    }
   ],
   "source": [
    "A = sym.Matrix([[1,1,1],[1,1,0],[1,0,0]])\n",
    "print(A)"
   ]
  },
  {
   "cell_type": "code",
   "execution_count": 4,
   "id": "f3ef57c9",
   "metadata": {},
   "outputs": [
    {
     "name": "stdout",
     "output_type": "stream",
     "text": [
      "Matrix([[b11 + b21 + b31, b12 + b22 + b32, b13 + b23 + b33], [b11 + b21, b12 + b22, b13 + b23], [b11, b12, b13]])\n",
      "Matrix([[b11 + b12 + b13, b11 + b12, b11], [b21 + b22 + b23, b21 + b22, b21], [b31 + b32 + b33, b31 + b32, b31]])\n"
     ]
    }
   ],
   "source": [
    "AB = A*B\n",
    "print(AB)\n",
    "BA = B*A\n",
    "print(BA)"
   ]
  },
  {
   "cell_type": "code",
   "execution_count": 5,
   "id": "e77633f6",
   "metadata": {},
   "outputs": [
    {
     "name": "stdout",
     "output_type": "stream",
     "text": [
      "-b12 - b13 + b21 + b31\n"
     ]
    }
   ],
   "source": [
    "gl11 = AB[0,0]-BA[0,0] \n",
    "print(gl11)"
   ]
  },
  {
   "cell_type": "code",
   "execution_count": 6,
   "id": "0d7214e5",
   "metadata": {},
   "outputs": [
    {
     "name": "stdout",
     "output_type": "stream",
     "text": [
      "Matrix([[-b12 - b13 + b21 + b31, -b11 + b22 + b32, -b11 + b13 + b23 + b33], [b11 - b22 - b23, b12 - b21, b13 - b21 + b23], [b11 - b31 - b32 - b33, b12 - b31 - b32, b13 - b31]])\n"
     ]
    }
   ],
   "source": [
    "gl=AB-BA\n",
    "print(gl)"
   ]
  },
  {
   "cell_type": "code",
   "execution_count": 7,
   "id": "47b57799",
   "metadata": {},
   "outputs": [
    {
     "name": "stdout",
     "output_type": "stream",
     "text": [
      "{b11: b31 + b32 + b33, b12: b31 + b32, b13: b31, b21: b31 + b32, b22: b31 + b33, b23: b32}\n"
     ]
    }
   ],
   "source": [
    "lsg=sym.solve((gl[0,0],gl[0,1],gl[0,2],gl[1,0],gl[1,1],gl[1,2],gl[2,0],gl[2,1],gl[2,2]),b11,b12,b13,b21,b22,b23,b31,b32,b33)\n",
    "print(lsg)"
   ]
  },
  {
   "cell_type": "code",
   "execution_count": 8,
   "id": "5a7b68b7",
   "metadata": {},
   "outputs": [
    {
     "name": "stdout",
     "output_type": "stream",
     "text": [
      "Matrix([[b31 + b32 + b33, b31 + b32, b31], [b31 + b32, b31 + b33, b32], [b31, b32, b33]])\n"
     ]
    }
   ],
   "source": [
    "B_lsg = sym.Matrix([[lsg[b11],lsg[b12],lsg[b13]],[lsg[b21],lsg[b22],lsg[b23]],[b31,b32,b33]])\n",
    "print(B_lsg)"
   ]
  },
  {
   "cell_type": "code",
   "execution_count": 9,
   "id": "54ac0333",
   "metadata": {},
   "outputs": [
    {
     "name": "stdout",
     "output_type": "stream",
     "text": [
      "Matrix([[b11 + b21 + b31, b12 + b22 + b32, b13 + b23 + b33], [b11 + b21, b12 + b22, b13 + b23], [b11, b12, b13]])\n",
      "Matrix([[b11 + b12 + b13, b11 + b12, b11], [b21 + b22 + b23, b21 + b22, b21], [b31 + b32 + b33, b31 + b32, b31]])\n"
     ]
    }
   ],
   "source": [
    "print(A*B)\n",
    "print(B*A)"
   ]
  },
  {
   "cell_type": "code",
   "execution_count": 10,
   "id": "01b0742a",
   "metadata": {},
   "outputs": [
    {
     "name": "stdout",
     "output_type": "stream",
     "text": [
      "Matrix([[-b12 - b13 + b21 + b31, -b11 + b22 + b32, -b11 + b13 + b23 + b33], [b11 - b22 - b23, b12 - b21, b13 - b21 + b23], [b11 - b31 - b32 - b33, b12 - b31 - b32, b13 - b31]])\n"
     ]
    }
   ],
   "source": [
    "print(A*B-B*A)"
   ]
  },
  {
   "cell_type": "code",
   "execution_count": 10,
   "id": "aefb559b",
   "metadata": {},
   "outputs": [],
   "source": []
  }
 ],
 "metadata": {
  "kernelspec": {
   "display_name": "Python 3 (ipykernel)",
   "language": "python",
   "name": "python3"
  },
  "language_info": {
   "codemirror_mode": {
    "name": "ipython",
    "version": 3
   },
   "file_extension": ".py",
   "mimetype": "text/x-python",
   "name": "python",
   "nbconvert_exporter": "python",
   "pygments_lexer": "ipython3",
   "version": "3.8.8"
  }
 },
 "nbformat": 4,
 "nbformat_minor": 5
}
