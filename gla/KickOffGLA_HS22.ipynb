{
 "cells": [
  {
   "cell_type": "markdown",
   "id": "4fd7fad1",
   "metadata": {},
   "source": [
    "# gla: Kick-off (LE1) - Verkehrsberuhigung Quartier\n",
    "\n",
    "22.9.2022 / Roger Burkhardt"
   ]
  },
  {
   "cell_type": "markdown",
   "id": "a76e278b",
   "metadata": {},
   "source": [
    "## Problemstellung\n",
    "\n",
    "Ein Quartier wird durch vier Einbahnstrassen eingegrenzt. Eine Arbeitsgruppe soll Massnahmen ergreifen, um den Verkehrsfluss in diesen Strassen zu reduzieren. Nun hat man als erstes die Schule beauftragt, während einer gewissen Zeit das Verkehrsaufkommen zu messen.\n",
    "\n",
    "Die Schülerinnen und Schüler haben folgende REsultate erhalten:\n",
    "\n",
    "![Verkehrsaufkommen](verkehr.jpg)\n",
    "\n",
    "Nun wurden die Verkehrsflüsse in den vier Einbahnstrassen (A, B, C und D) um das Quartier nicht gemessen und es stellt sich die Frage, wie aus den gemessenen Verkehrsflüssen die gesuchten bestimmt werden kann!"
   ]
  },
  {
   "cell_type": "markdown",
   "id": "8c97fc0c",
   "metadata": {},
   "source": [
    "## Lineares Gleichungssystem\n",
    "\n",
    "Für jede der vier Kreuzungen gilt Summe der einfahrenden Fahrzeuge ist gleich Summe der ausfahrenden Fahrzeuge. Dadurch erhält man das folgende lineare Gleichungssystem:\n",
    "\n",
    "$$\n",
    "\\left|\\begin{array}{ccccccccc}A&-&B&&&&&=&90\\\\&&B&-&C&&&=&15\\\\&&&&C&-&D&=&-185\\\\A&&&&&-&D&=&-80\\end{array}\\right|\n",
    "$$\n"
   ]
  },
  {
   "cell_type": "code",
   "execution_count": 2,
   "id": "f80c2726",
   "metadata": {},
   "outputs": [
    {
     "name": "stdout",
     "output_type": "stream",
     "text": [
      "Eq(A - B, 90)\n"
     ]
    }
   ],
   "source": [
    "import sympy as sym\n",
    "A,B,C,D = sym.symbols('A,B,C,D')\n",
    "gl1 = sym.Eq(A-B,90)\n",
    "gl2 = sym.Eq(B-C,15)\n",
    "gl3 = sym.Eq(C-D,-185)\n",
    "gl4 = sym.Eq(A-D,-80)\n",
    "print(gl1)"
   ]
  },
  {
   "cell_type": "markdown",
   "id": "c730e41e",
   "metadata": {},
   "source": [
    "## Matrixschreibweise\n",
    "\n",
    "Das gefundene lineare Gleichungssystem in Matrixschreibweise ($M\\cdot\\vec{x}=\\vec{b}$):\n",
    "\n",
    "$$\n",
    "\\underbrace{\\left(\\begin{array}{cccc}1&-1&0&0\\\\0&1&-1&0\\\\0&0&1&-1\\\\1&0&0&-1\\end{array}\\right)}_{M}\\underbrace{\\left(\\begin{array}{c}A\\\\B\\\\C\\\\D\\end{array}\\right)}_{\\vec{x}}=\\underbrace{\\left(\\begin{array}{c}90\\\\15\\\\-185\\\\-80\\end{array}\\right)}_{\\vec{b}}\n",
    "$$\n",
    "\n",
    "($M$: Koeffizientenmatrix, $\\vec{x}$: Unbekannte, $\\vec{b}$: Absolutglieder)"
   ]
  },
  {
   "cell_type": "code",
   "execution_count": 3,
   "id": "5dfa38eb",
   "metadata": {},
   "outputs": [
    {
     "name": "stdout",
     "output_type": "stream",
     "text": [
      "Matrix([[1, -1, 0, 0], [0, 1, -1, 0], [0, 0, 1, -1], [1, 0, 0, -1]])\n",
      "Matrix([[90], [15], [-185], [-80]])\n"
     ]
    }
   ],
   "source": [
    "M = sym.Matrix([[1,-1,0,0],[0,1,-1,0],[0,0,1,-1],[1,0,0,-1]])\n",
    "b = sym.Matrix([[90],[15],[-185],[-80]])\n",
    "print(M)\n",
    "print(b)"
   ]
  },
  {
   "cell_type": "markdown",
   "id": "a0edf94b",
   "metadata": {},
   "source": [
    "Häufig arbeiten wir in der linearen Algebra mit der erweiterten Koeffizientenmatrix. Diese Matrix erhält man durch das Anfügen der Absolutglieder an die Koeffizientenmatrix (zusätzliche Spalte):\n",
    "\n",
    "$$\n",
    "\\hat{M}=\\left(\\begin{array}{cccc|c}1&-1&0&0&90\\\\0&1&-1&0&15\\\\0&0&1&-1&-185\\\\1&0&0&-1&-80\\end{array}\\right)\n",
    "$$"
   ]
  },
  {
   "cell_type": "code",
   "execution_count": 4,
   "id": "dedbc2be",
   "metadata": {},
   "outputs": [
    {
     "ename": "ModuleNotFoundError",
     "evalue": "No module named 'numpy'",
     "output_type": "error",
     "traceback": [
      "\u001B[0;31m---------------------------------------------------------------------------\u001B[0m",
      "\u001B[0;31mModuleNotFoundError\u001B[0m                       Traceback (most recent call last)",
      "Cell \u001B[0;32mIn [4], line 1\u001B[0m\n\u001B[0;32m----> 1\u001B[0m \u001B[38;5;28;01mimport\u001B[39;00m \u001B[38;5;21;01mnumpy\u001B[39;00m \u001B[38;5;28;01mas\u001B[39;00m \u001B[38;5;21;01mnp\u001B[39;00m\n\u001B[1;32m      2\u001B[0m M_dach \u001B[38;5;241m=\u001B[39m sym\u001B[38;5;241m.\u001B[39mMatrix(np\u001B[38;5;241m.\u001B[39mconcatenate((M,b),\u001B[38;5;241m1\u001B[39m))\n\u001B[1;32m      3\u001B[0m \u001B[38;5;28mprint\u001B[39m(M_dach)\n",
      "\u001B[0;31mModuleNotFoundError\u001B[0m: No module named 'numpy'"
     ]
    }
   ],
   "source": [
    "import numpy as np\n",
    "M_dach = sym.Matrix(np.concatenate((M,b),1))\n",
    "print(M_dach)"
   ]
  },
  {
   "cell_type": "markdown",
   "id": "9963b9c8",
   "metadata": {},
   "source": [
    "## Lösungsmethoden mit Python\n",
    "\n",
    "In Python haben wir verschiedene Möglichkeiten, dieses lineare Gleichungssystem zu lösen!"
   ]
  },
  {
   "cell_type": "markdown",
   "id": "1eb5c076",
   "metadata": {},
   "source": [
    "### Der Befehl **solve**"
   ]
  },
  {
   "cell_type": "code",
   "execution_count": null,
   "id": "ee9d7eaa",
   "metadata": {},
   "outputs": [],
   "source": [
    "lsg = sym.solve([gl1,gl2,gl3,gl4])\n",
    "print(lsg)"
   ]
  },
  {
   "cell_type": "markdown",
   "id": "012b68ea",
   "metadata": {},
   "source": [
    "### Der Befehl **linsolve**"
   ]
  },
  {
   "cell_type": "code",
   "execution_count": null,
   "id": "3b9604a4",
   "metadata": {},
   "outputs": [],
   "source": [
    "lsg = sym.linsolve((M,b),[A,B,C,D])\n",
    "print(lsg)"
   ]
  },
  {
   "cell_type": "markdown",
   "id": "bd62f26e",
   "metadata": {},
   "source": [
    "### Der Befehl **rref**"
   ]
  },
  {
   "cell_type": "code",
   "execution_count": null,
   "id": "ec593e51",
   "metadata": {},
   "outputs": [],
   "source": [
    "lsg = M_dach.rref()\n",
    "print(lsg)"
   ]
  },
  {
   "cell_type": "code",
   "execution_count": null,
   "id": "93293bd7",
   "metadata": {},
   "outputs": [],
   "source": []
  }
 ],
 "metadata": {
  "kernelspec": {
   "display_name": "Python 3 (ipykernel)",
   "language": "python",
   "name": "python3"
  },
  "language_info": {
   "codemirror_mode": {
    "name": "ipython",
    "version": 3
   },
   "file_extension": ".py",
   "mimetype": "text/x-python",
   "name": "python",
   "nbconvert_exporter": "python",
   "pygments_lexer": "ipython3",
   "version": "3.9.10"
  }
 },
 "nbformat": 4,
 "nbformat_minor": 5
}
