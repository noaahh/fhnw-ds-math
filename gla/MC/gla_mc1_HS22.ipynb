{
 "cells": [
  {
   "cell_type": "markdown",
   "metadata": {},
   "source": [
    "# Mini-Challenge 1 (MC1): Implementierung des Gauss-Verfahrens\n",
    "\n",
    "## Grundlagen der Lineare Algebra (gla)\n",
    "\n",
    "## Klassen: 1Da\n",
    "\n",
    "## HS 2022\n",
    "\n",
    "## Kathrin Gerhard und Roger Burkhardt\n",
    "\n",
    "**Ziel der Übung**\n",
    "\n",
    "Ziel dieser Programmierübung sind einfache Anwendungen von Python und numpy, mit dem Fokus auf die Repräsentation und Manipulation von Matrizen, womit die Studierenden in der ersten, unbewerteten Programmierübung einige erste Erfahrungen gesammelt haben sollten. Dabei soll der Gauss-Algorithmus zur Umformung einer erweiterten Koeffizientenmatrix in die Zeilenstufenform als Funktion implementiert werden, um das Verständnis für diesen zu vertiefen.\n",
    "\n",
    "* In der ersten Aufgabe werden die elementaren Zeilenumformungen in Python implementiert. Dazu werden Python-Funktionen eingeführt und der Unterschied zwischen call-by-value und call-by-reference wird erklärt. Die Funktionen sollen die entsprechenden Slices (=Zeilen) aus Matrizen extrahieren und der Aufgabenstellung entsprechend verändern. \n",
    "\n",
    "* In der zweiten Aufgabe werden Sie das in der Vorlesung besprochene Gauss-Verfahren mit den in Aufgabe 1 implementierten elementaren Zeilenumformungen auf eine beispielhafte Matrix anwenden und diese in Zeilenstufenform bringen, damit Sie die Lösung des Gleichungssystems bestimmen können.\n",
    "\n",
    "* In der dritten Aufgabe werden Sie Ihr Vorgehen in der zweiten Aufgabe formalisieren und automatisieren und eine Funktion erstellen, die mit dem Gauss-Verfahren eine Matrix für Sie automatisch in Zeilenstufenform bringt. Sie werden dabei Ihre Implementierung auf mehrere Beispielmatrizen anwenden und es auf seine korrekte Funktionsweise überprüfen.\n",
    "\n",
    "Wir stellen Ihnen teilweise schon Teile der Implementierung zur Verfügung. Verändern Sie bitte diese Rahmengerüste nicht, sondern fügen Sie Ihren Code zwischen den Kommentaren `# IHR CODE BEGINNT HIER` und `# IHR CODE ENDET HIER` ein.\n",
    "\n",
    "Sie dürfen in dieses Notebook über den Menüpunkt 'Insert' durchaus weitere Zeilen einfügen. Falls Sie gerne Markdown-Notizen in die Zelle einfügen möchten, können Sie den Modus der Zelle von 'Code' auf 'Markdown' setzen (oder Esc-M drücken)."
   ]
  },
  {
   "cell_type": "markdown",
   "metadata": {},
   "source": [
    "## Aufgabe 1: Elementare Zeilenumformungen"
   ]
  },
  {
   "cell_type": "markdown",
   "metadata": {},
   "source": [
    "Sie haben in der Vorlesung die drei elementaren Zeilenumformungen kennengelernt, die ein Gleichungssystem in seiner Repräsentation als erweiterte Koeffizientenmatrix in eine äquivalente Matrix überführen. Diese Umformungen sind\n",
    "\n",
    "* Multiplikation einer Gleichung / Zeile der Matrix mit einem Skalar\n",
    "* Vertauschen zweier Gleichungen / Zeilen der Matrix\n",
    "* Addition einer Gleichung / Zeile der Matrix zu einer anderen\n",
    "\n",
    "Im Folgenden werden Sie für jede dieser drei Zeilenumformungen eine Python-Funktionen implementieren, die sie dann auf eine beliebige Matrix anwenden können. Zum Überprüfen auf korrekte Funktionalität können Sie dabei folgende Matrix benutzen:"
   ]
  },
  {
   "cell_type": "code",
   "execution_count": 480,
   "metadata": {},
   "outputs": [
    {
     "name": "stdout",
     "output_type": "stream",
     "text": [
      "[[ 1.  1. -1.  3.]\n",
      " [ 1.  2. -2.  2.]\n",
      " [ 2. -1.  2. 15.]]\n"
     ]
    }
   ],
   "source": [
    "import numpy as np\n",
    "A = np.matrix( [[1,1,-1,3],[1,2,-2,2],[2,-1,2,15]], dtype=np.float64 )\n",
    "print( A )"
   ]
  },
  {
   "cell_type": "markdown",
   "metadata": {},
   "source": [
    "### Teilaufgabe 1a): Multiplikation mit einem Skalar"
   ]
  },
  {
   "cell_type": "markdown",
   "metadata": {},
   "source": [
    "Zuerst werden Sie eine Funktion implementieren, die eine beliebige Zeile einer Matrix mit einem Skalar multipliziert. Wir haben das Gerüst der Funktion (Definition, Parameter, Rückgabewert) bereits für Sie vorgegeben. [Hier](https://en.wikibooks.org/wiki/Python_Programming/Functions) finden Sie eine vertiefte Einführung in Python-Funktionen.\n",
    "\n",
    "**Hinweis:** Beachten Sie, dass wir explizit eine Kopie der Matrix erstellen: Standardmässig übergibt Python Matrizen mit call-by-reference, d.h. alle Operationen auf der übergebenen Matrix M werden auf dem original ausgeführt, was oft effizienter ist als eine Kopie (call-by-value) zu erstellen. In diesem Fall ist es aber sauberer, die ursprüngliche Matrix nicht anzurühren, sondern eine Kopie zu machen und diese explizit zurückzugeben. Machen Sie im Folgenden wenn immer möglich eine Kopie der übergebenen Matrix."
   ]
  },
  {
   "cell_type": "code",
   "execution_count": 481,
   "metadata": {},
   "outputs": [],
   "source": [
    "def multipliziere( M, zeile, skalar ):\n",
    "    \"\"\"\n",
    "    Multipliziert eine Zeile einer Matrix mit einem skalaren Faktor.\n",
    "        \n",
    "    Arguments:\n",
    "    M -- Matrix mit shape (m,n)\n",
    "    zeile -- Zeile, die multipliziert werden soll\n",
    "    skalar -- Faktor, mit dem die Zeile multipliziert werden soll\n",
    "    \n",
    "    Returns:\n",
    "    Matrix mit skalarem Faktor multiplizierter Zeile\n",
    "    \"\"\"\n",
    "    M = M.copy()\n",
    "    \n",
    "    # IHR CODE BEGINNT HIER\n",
    "\n",
    "    if np.shape(M)[0] >= zeile + 1:\n",
    "        M[zeile] = M[zeile] * skalar\n",
    "    # IHR CODE ENDET HIER\n",
    "    \n",
    "    return M"
   ]
  },
  {
   "cell_type": "markdown",
   "metadata": {},
   "source": [
    "Sie können nun im folgenden Feld Ihre Funktion auf der Matrix **A** auf korrekte Funktion testen:"
   ]
  },
  {
   "cell_type": "code",
   "execution_count": 482,
   "metadata": {},
   "outputs": [
    {
     "name": "stdout",
     "output_type": "stream",
     "text": [
      "[[ 1.  2. -2.  2.]]\n",
      "---\n",
      "[[ 2.  4. -4.  4.]]\n"
     ]
    }
   ],
   "source": [
    "# IHR CODE BEGINNT HIER\n",
    "\n",
    "zeile = 1\n",
    "skalar = 2\n",
    "\n",
    "print(A[zeile])\n",
    "print(\"---\")\n",
    "print(multipliziere(A, zeile, skalar)[zeile])\n",
    "\n",
    "# IHR CODE ENDET HIER"
   ]
  },
  {
   "cell_type": "markdown",
   "metadata": {},
   "source": [
    "### Teilaufgabe 1b): Vertauschung zweier Zeilen"
   ]
  },
  {
   "cell_type": "markdown",
   "metadata": {},
   "source": [
    "Nun werden Sie auf die gleiche Weise die Vertauschung zweier Zeilen implementieren.\n",
    "\n",
    "**Hinweis**: Auch hier gilt es wieder, den Umgang von Python mit Matrzen zu beachten. Wenn Sie über den Indexoperator auf eine spezifische Zeile der Matrix zugreifen, gibt Python eine Referenz zum Speicherort dieser Zeile zurück, das ist platzsparend und sehr effizient. Das ist aber ebenfalls ein unerwünschtes Verhalten hier - verwenden Sie darum ebenfalls\n",
    "M[ i,: ] = M[ j, : ].copy() wenn Sie eine Zeile einer anderen zuweisen wollen."
   ]
  },
  {
   "cell_type": "code",
   "execution_count": 483,
   "metadata": {},
   "outputs": [],
   "source": [
    "def vertausche( M, zeile1, zeile2 ):\n",
    "    \"\"\"\n",
    "    Vertauscht zwei Zeilen einer Matrix.\n",
    "        \n",
    "    Arguments:\n",
    "    M -- Matrix mit shape (m,n)\n",
    "    zeile1 -- Erste Zeile, die vertauscht werden soll\n",
    "    zeile2 -- Zweite Zeile, die vertauscht werden soll\n",
    "    \n",
    "    Returns:\n",
    "    Matrix mit vertauschten Zeilen\n",
    "    \"\"\"\n",
    "    M = M.copy()\n",
    "    \n",
    "    # IHR CODE BEGINNT HIER\n",
    "\n",
    "    row_1 = M[zeile1].copy()\n",
    "    row_2 = M[zeile2].copy()\n",
    "\n",
    "    M[zeile1] = row_2\n",
    "    M[zeile2] = row_1\n",
    "    \n",
    "    # IHR CODE ENDET HIER\n",
    "\n",
    "    return M"
   ]
  },
  {
   "cell_type": "markdown",
   "metadata": {},
   "source": [
    "Test der Funktion"
   ]
  },
  {
   "cell_type": "code",
   "execution_count": 484,
   "metadata": {},
   "outputs": [
    {
     "name": "stdout",
     "output_type": "stream",
     "text": [
      "[[ 1.  1. -1.  3.]\n",
      " [ 1.  2. -2.  2.]\n",
      " [ 2. -1.  2. 15.]]\n",
      "---\n",
      "[[ 1.  2. -2.  2.]\n",
      " [ 1.  1. -1.  3.]\n",
      " [ 2. -1.  2. 15.]]\n"
     ]
    }
   ],
   "source": [
    "# IHR CODE BEGINNT HIER\n",
    "\n",
    "print(A)\n",
    "print(\"---\")\n",
    "print(vertausche(A, 0, 1))\n",
    "\n",
    "# IHR CODE ENDET HIER"
   ]
  },
  {
   "cell_type": "markdown",
   "metadata": {},
   "source": [
    "### Teilaufgabe 1c): Ersetzen einer Zeile durch eine nicht-triviale Linearkombination dieser Zeile mit einer anderen Zeile"
   ]
  },
  {
   "cell_type": "markdown",
   "metadata": {},
   "source": [
    "Mit den Kenntnissen aus den ersten beiden Teilaufgaben sollten Sie nun auch die letzte Funktion implementieren können:"
   ]
  },
  {
   "cell_type": "code",
   "execution_count": 485,
   "metadata": {},
   "outputs": [],
   "source": [
    "def ersetze( M, ziel_zeile, skalar1, zeile2, skalar2):\n",
    "    \"\"\"\n",
    "    Ersetzt die ziel_zeile durch die Linearkombination skalar1*ziel_zeile+skalar2*zeile2.\n",
    "        \n",
    "    Arguments:\n",
    "    M -- Matrix mit shape (m,n)\n",
    "    ziel_zeile -- Zeile, in die das Resultat gespeichert werden soll\n",
    "    skalar1 -- Multiplikationsfaktor der ziel_zeile\n",
    "    zeile2 -- Zeile, deren Vielfaches addiert werden soll\n",
    "    skalar2 -- Multiplikationsfaktor der zweiten Zeile\n",
    "    \n",
    "    Returns:\n",
    "    Matrix mit addierten Zeilen\n",
    "    \"\"\"\n",
    "    M = M.copy()\n",
    "    \n",
    "    # IHR CODE BEGINNT HIER\n",
    "\n",
    "    M[ziel_zeile] = M[ziel_zeile] * skalar1 + M[zeile2] * skalar2\n",
    "    \n",
    "    # IHR CODE ENDET HIER\n",
    "    \n",
    "    return M"
   ]
  },
  {
   "cell_type": "markdown",
   "metadata": {},
   "source": [
    "Test der Funktion:"
   ]
  },
  {
   "cell_type": "code",
   "execution_count": 486,
   "metadata": {},
   "outputs": [
    {
     "name": "stdout",
     "output_type": "stream",
     "text": [
      "[[ 1.  1. -1.  3.]\n",
      " [ 1.  2. -2.  2.]\n",
      " [ 2. -1.  2. 15.]]\n",
      "---\n",
      "[[ 1.   1.  -1.   3. ]\n",
      " [ 0.   2.5 -3.  -5.5]\n",
      " [ 2.  -1.   2.  15. ]]\n"
     ]
    }
   ],
   "source": [
    "# IHR CODE BEGINNT HIER\n",
    "\n",
    "print(A)\n",
    "print(\"---\")\n",
    "print(ersetze(A, 1, 1, 2, -0.5))\n",
    "\n",
    "# IHR CODE ENDET HIER"
   ]
  },
  {
   "cell_type": "markdown",
   "metadata": {},
   "source": [
    "## Aufgabe 2: Manuelle Durchführung des Gauss-Verfahrens\n",
    "\n",
    "Nun haben Sie alle möglichen Zeilenumformungen, welche die Lösungsmenge eines linearen Gleichungssystem (und damit seine erweiterte Koeffizientenmatrix) unverändert lassen, als Python-Funktionen implementiert.\n",
    "\n",
    "### Teilaufgabe 2a): Anwendung der Zeilenumformungen\n",
    "\n",
    "Bringen Sie die Matrix **B** durch elementare Zeilenumformungen auf Zeilenstufenform:"
   ]
  },
  {
   "cell_type": "code",
   "execution_count": 487,
   "metadata": {},
   "outputs": [
    {
     "name": "stdout",
     "output_type": "stream",
     "text": [
      "[[ 0.  1. -1.  3.]\n",
      " [ 1.  2. -2.  2.]\n",
      " [ 2. -1.  2. 15.]]\n"
     ]
    }
   ],
   "source": [
    "B = np.matrix( [\n",
    "    [0,  1, -1,  3],\n",
    "    [1,  2, -2,  2],\n",
    "    [2,- 1,  2,  15]\n",
    "], dtype=np.float64 )\n",
    "print( B )"
   ]
  },
  {
   "cell_type": "markdown",
   "metadata": {},
   "source": [
    "Benutzen Sie dazu für jede neue Umformung eine neue Jupyter-Zelle. Speichern Sie das Resultat der Zeilenumformung jeweils in B (z.B. `B = addiere( B, ... )`) und geben Sie die umgeformte Matrix jeweils mit `print( B )` aus."
   ]
  },
  {
   "cell_type": "code",
   "execution_count": 488,
   "metadata": {},
   "outputs": [
    {
     "name": "stdout",
     "output_type": "stream",
     "text": [
      "[[ 1.  2. -2.  2.]\n",
      " [ 0.  1. -1.  3.]\n",
      " [ 2. -1.  2. 15.]]\n"
     ]
    }
   ],
   "source": [
    "# IHR CODE BEGINNT HIER\n",
    "\n",
    "B = vertausche(B, zeile1=0, zeile2=1)\n",
    "print(B)"
   ]
  },
  {
   "cell_type": "code",
   "execution_count": 489,
   "metadata": {},
   "outputs": [
    {
     "name": "stdout",
     "output_type": "stream",
     "text": [
      "[[ 1.  2. -2.  2.]\n",
      " [ 0.  1. -1.  3.]\n",
      " [ 0. -5.  6. 11.]]\n"
     ]
    }
   ],
   "source": [
    "B = ersetze(B, ziel_zeile=2, zeile2=0, skalar1=1, skalar2=-2)\n",
    "print(B)"
   ]
  },
  {
   "cell_type": "code",
   "execution_count": 490,
   "metadata": {},
   "outputs": [
    {
     "name": "stdout",
     "output_type": "stream",
     "text": [
      "[[ 1.  2. -2.  2.]\n",
      " [ 0.  1. -1.  3.]\n",
      " [ 0.  0.  1. 26.]]\n"
     ]
    }
   ],
   "source": [
    "B = ersetze(B, ziel_zeile=2, zeile2=1, skalar1=1, skalar2=5)\n",
    "print(B)"
   ]
  },
  {
   "cell_type": "code",
   "execution_count": 491,
   "metadata": {},
   "outputs": [],
   "source": [
    "\n",
    "\n",
    "# IHR CODE ENDET HIER"
   ]
  },
  {
   "cell_type": "markdown",
   "metadata": {},
   "source": [
    "### Teilaufgabe 2b): Lösung durch Rückwärtssubstitution\n",
    "\n",
    "Berechnen Sie die Lösung des durch die Matrix **B** repräsentierten Gleichungssystems durch Rückwärtssubstitution und geben Sie die Lösungsmenge in der nächsten Zelle im Markdown-Format an:"
   ]
  },
  {
   "cell_type": "code",
   "execution_count": 492,
   "metadata": {},
   "outputs": [
    {
     "name": "stdout",
     "output_type": "stream",
     "text": [
      "L = (-4, 29, 26)\n"
     ]
    }
   ],
   "source": [
    "# IHR CODE BEGINNT HIER\n",
    "\n",
    "z = 26\n",
    "y = 3 + z\n",
    "x = 2 - 2*y + 2*z\n",
    "\n",
    "print(f'L = ({x}, {y}, {z})')\n",
    "\n",
    "# IHR CODE ENDET HIER"
   ]
  },
  {
   "cell_type": "markdown",
   "metadata": {},
   "source": [
    "L=???"
   ]
  },
  {
   "cell_type": "markdown",
   "metadata": {},
   "source": [
    "## Aufgabe 3: Implementierung des Gauss-Verfahrens"
   ]
  },
  {
   "cell_type": "markdown",
   "metadata": {},
   "source": [
    "### Teil a): Implementierung des Gauss-Verfahrens"
   ]
  },
  {
   "cell_type": "markdown",
   "metadata": {},
   "source": [
    "Wir möchten nun unser Vorgehen aus Aufgabe 2 automatisieren. Implementieren Sie eine Funktion `gauss_elimination`, die für eine beliebige Matrix **M** das Gauss-Verfahren durchführt und sie damit auf Zeilenstufenform bringt. Wir stellen Ihnen dabei den Gauss-Algorithmus als Pseudocode zur Verfügung. Versuchen Sie diesen Pseudecode mit der Vorlesung in Bezug zu setzen und setzen Sie ihn in eine Python-Implementation um, indem Sie die in Aufgabe 1 implementierten Funktionen verwenden."
   ]
  },
  {
   "cell_type": "markdown",
   "metadata": {},
   "source": [
    "<font size = 5>\n",
    "<hr style=\"height: 5px\">\n",
    "<b>Pseudocode für das Gauss-Verfahren</b>\n",
    "<hr style=\"height: 5px\">\n",
    "\n",
    "\n",
    "<ul style=\"line-height: 1.4\">\n",
    "    <li>setze m = Anzahl Zeilen der Matrix M und n = Anzahl Spalten der Matrix M</li>\n",
    "    <li>setze i, j = 0</li>\n",
    "    <li>solange i<m und j<n:</li>\n",
    "    <ul>\n",
    "        <li>setze l = -1</li>\n",
    "        <li>für k = i, .., m:</li>\n",
    "        <ul>\n",
    "            <li>falls |M[k,j])| > 0:</li>\n",
    "            <ul>\n",
    "                <li>l = k</li>\n",
    "                <li>beende die Schleife frühzeitig</li>\n",
    "            </ul>\n",
    "        </ul>\n",
    "        <li>falls l >= 0:</li>\n",
    "            <ul>\n",
    "                <li>falls i $\\neq$ l:</li>\n",
    "                <ul>\n",
    "                    <li>vertausche die Zeilen i und l</li>\n",
    "                </ul>\n",
    "                <li>dividiere die Zeile i durch M[i,j]</li>\n",
    "                <li>für u = i+1, .., m:</li>\n",
    "                <ul><li>subtrahiere M[u,j] mal die i-te Zeile von der u-ten Zeile</li></ul>\n",
    "                <li>inkrementiere i = i+1</li>\n",
    "        </ul>\n",
    "        <li>inkrementiere j = j+1</li>\n",
    "     </ul>  \n",
    "</ul>          \n",
    "<hr style=\"height: 5px\">"
   ]
  },
  {
   "cell_type": "markdown",
   "metadata": {},
   "source": [
    "Sie benötigen für diese Funktion die Kontrollstrukturen von Python (`for`, `if` und `while`) und ausserdem die `range`-Funktion, die Ihnen eine Liste von Zahlen zurückgibt, über die Sie mit `for` iterieren können. Ausserdem kann Ihnen die Anweisung `break` helfen, die eine Schleife in ihrer Ausführung vorzeitig abbricht."
   ]
  },
  {
   "cell_type": "code",
   "execution_count": 493,
   "metadata": {},
   "outputs": [],
   "source": [
    "def gauss_elimination( M, print_steps=True ):\n",
    "    \"\"\"\n",
    "    Bringt die Matrix M mittels dem Gauss-Verfahren auf Zeilenstufenform\n",
    "        \n",
    "    Arguments:\n",
    "    M -- Matrix mit shape (m,n)\n",
    "    print_steps -- Gibt einzelne Berechnungsschritte aus falls True\n",
    "    \n",
    "    Returns:\n",
    "    Matrix in Zeilenstufenform\n",
    "    \"\"\"\n",
    "    M = M.copy()\n",
    "    m, n = M.shape\n",
    "\n",
    "    m = m + 1\n",
    "    n = n + 1\n",
    "\n",
    "    # IHR CODE STARTET HIER\n",
    "    i, j = 0, 0\n",
    "    while i < m:\n",
    "        l = -1\n",
    "        for k in range(i, m):\n",
    "            if abs(M[k, j]) > 0:\n",
    "                l = k\n",
    "                break\n",
    "\n",
    "        if l >= 0:\n",
    "            if i != l:\n",
    "                M = vertausche(M, zeile1 = i, zeile2 = l)\n",
    "\n",
    "            M = multipliziere(M, i, 1 / M.item(i, j))\n",
    "            for u in range(i + 1, m):\n",
    "                M = ersetze(M, ziel_zeile = u, zeile2 = i, skalar1 = 1, skalar2 = -M[u][j])\n",
    "\n",
    "            i = i + 1\n",
    "\n",
    "    j = j + 1\n",
    "\n",
    "\n",
    "\n",
    "    # IHR CODE ENDET HIER\n",
    "    \n",
    "    return M"
   ]
  },
  {
   "cell_type": "markdown",
   "metadata": {},
   "source": [
    "### Teil b): Anwendung Ihrer Implementierung auf ausgewählte Matrizen"
   ]
  },
  {
   "cell_type": "markdown",
   "metadata": {},
   "source": [
    "Weiterhin stellen wir Ihnen eine Reihe von Matrizen zur Verfügung, auf denen Sie Ihre Implementierung testen können. Berechnen Sie die einzelnen Schritte der Umwandlung in die Zeilenstufenform von Hand, dann können Sie sie mit den Schritten Ihrer Funktion vergleichen, wenn Sie `print_steps=True` verwenden."
   ]
  },
  {
   "cell_type": "code",
   "execution_count": 494,
   "metadata": {},
   "outputs": [
    {
     "name": "stdout",
     "output_type": "stream",
     "text": [
      "[[ 1.  1. -1.  3.]\n",
      " [ 1.  2. -2.  2.]\n",
      " [ 2. -1.  2. 15.]]\n"
     ]
    }
   ],
   "source": [
    "A = np.matrix( [[1,1,-1,3],[1,2,-2,2],[2,-1,2,15]], dtype=np.float64 )\n",
    "print( A )"
   ]
  },
  {
   "cell_type": "code",
   "execution_count": 495,
   "metadata": {},
   "outputs": [
    {
     "ename": "ValueError",
     "evalue": "shapes (1,4) and (1,4) not aligned: 4 (dim 1) != 1 (dim 0)",
     "output_type": "error",
     "traceback": [
      "\u001B[0;31m---------------------------------------------------------------------------\u001B[0m",
      "\u001B[0;31mValueError\u001B[0m                                Traceback (most recent call last)",
      "Cell \u001B[0;32mIn [495], line 2\u001B[0m\n\u001B[1;32m      1\u001B[0m \u001B[38;5;66;03m# IHR CODE\u001B[39;00m\n\u001B[0;32m----> 2\u001B[0m \u001B[38;5;28mprint\u001B[39m(gauss_elimination(A))\n",
      "Cell \u001B[0;32mIn [493], line 33\u001B[0m, in \u001B[0;36mgauss_elimination\u001B[0;34m(M, print_steps)\u001B[0m\n\u001B[1;32m     31\u001B[0m         M \u001B[38;5;241m=\u001B[39m multipliziere(M, i, \u001B[38;5;241m1\u001B[39m \u001B[38;5;241m/\u001B[39m M\u001B[38;5;241m.\u001B[39mitem(i, j))\n\u001B[1;32m     32\u001B[0m         \u001B[38;5;28;01mfor\u001B[39;00m u \u001B[38;5;129;01min\u001B[39;00m \u001B[38;5;28mrange\u001B[39m(i \u001B[38;5;241m+\u001B[39m \u001B[38;5;241m1\u001B[39m, m):\n\u001B[0;32m---> 33\u001B[0m             M \u001B[38;5;241m=\u001B[39m \u001B[43mersetze\u001B[49m\u001B[43m(\u001B[49m\u001B[43mM\u001B[49m\u001B[43m,\u001B[49m\u001B[43m \u001B[49m\u001B[43mziel_zeile\u001B[49m\u001B[43m \u001B[49m\u001B[38;5;241;43m=\u001B[39;49m\u001B[43m \u001B[49m\u001B[43mu\u001B[49m\u001B[43m,\u001B[49m\u001B[43m \u001B[49m\u001B[43mzeile2\u001B[49m\u001B[43m \u001B[49m\u001B[38;5;241;43m=\u001B[39;49m\u001B[43m \u001B[49m\u001B[43mi\u001B[49m\u001B[43m,\u001B[49m\u001B[43m \u001B[49m\u001B[43mskalar1\u001B[49m\u001B[43m \u001B[49m\u001B[38;5;241;43m=\u001B[39;49m\u001B[43m \u001B[49m\u001B[38;5;241;43m1\u001B[39;49m\u001B[43m,\u001B[49m\u001B[43m \u001B[49m\u001B[43mskalar2\u001B[49m\u001B[43m \u001B[49m\u001B[38;5;241;43m=\u001B[39;49m\u001B[43m \u001B[49m\u001B[38;5;241;43m-\u001B[39;49m\u001B[43mM\u001B[49m\u001B[43m[\u001B[49m\u001B[43mu\u001B[49m\u001B[43m]\u001B[49m\u001B[43m[\u001B[49m\u001B[43mj\u001B[49m\u001B[43m]\u001B[49m\u001B[43m)\u001B[49m\n\u001B[1;32m     35\u001B[0m         i \u001B[38;5;241m=\u001B[39m i \u001B[38;5;241m+\u001B[39m \u001B[38;5;241m1\u001B[39m\n\u001B[1;32m     37\u001B[0m j \u001B[38;5;241m=\u001B[39m j \u001B[38;5;241m+\u001B[39m \u001B[38;5;241m1\u001B[39m\n",
      "Cell \u001B[0;32mIn [485], line 19\u001B[0m, in \u001B[0;36mersetze\u001B[0;34m(M, ziel_zeile, skalar1, zeile2, skalar2)\u001B[0m\n\u001B[1;32m     15\u001B[0m M \u001B[38;5;241m=\u001B[39m M\u001B[38;5;241m.\u001B[39mcopy()\n\u001B[1;32m     17\u001B[0m \u001B[38;5;66;03m# IHR CODE BEGINNT HIER\u001B[39;00m\n\u001B[0;32m---> 19\u001B[0m M[ziel_zeile] \u001B[38;5;241m=\u001B[39m M[ziel_zeile] \u001B[38;5;241m*\u001B[39m skalar1 \u001B[38;5;241m+\u001B[39m \u001B[43mM\u001B[49m\u001B[43m[\u001B[49m\u001B[43mzeile2\u001B[49m\u001B[43m]\u001B[49m\u001B[43m \u001B[49m\u001B[38;5;241;43m*\u001B[39;49m\u001B[43m \u001B[49m\u001B[43mskalar2\u001B[49m\n\u001B[1;32m     21\u001B[0m \u001B[38;5;66;03m# IHR CODE ENDET HIER\u001B[39;00m\n\u001B[1;32m     23\u001B[0m \u001B[38;5;28;01mreturn\u001B[39;00m M\n",
      "File \u001B[0;32m~/dev/gla/venv/lib/python3.10/site-packages/numpy/matrixlib/defmatrix.py:218\u001B[0m, in \u001B[0;36mmatrix.__mul__\u001B[0;34m(self, other)\u001B[0m\n\u001B[1;32m    215\u001B[0m \u001B[38;5;28;01mdef\u001B[39;00m \u001B[38;5;21m__mul__\u001B[39m(\u001B[38;5;28mself\u001B[39m, other):\n\u001B[1;32m    216\u001B[0m     \u001B[38;5;28;01mif\u001B[39;00m \u001B[38;5;28misinstance\u001B[39m(other, (N\u001B[38;5;241m.\u001B[39mndarray, \u001B[38;5;28mlist\u001B[39m, \u001B[38;5;28mtuple\u001B[39m)) :\n\u001B[1;32m    217\u001B[0m         \u001B[38;5;66;03m# This promotes 1-D vectors to row vectors\u001B[39;00m\n\u001B[0;32m--> 218\u001B[0m         \u001B[38;5;28;01mreturn\u001B[39;00m \u001B[43mN\u001B[49m\u001B[38;5;241;43m.\u001B[39;49m\u001B[43mdot\u001B[49m\u001B[43m(\u001B[49m\u001B[38;5;28;43mself\u001B[39;49m\u001B[43m,\u001B[49m\u001B[43m \u001B[49m\u001B[43masmatrix\u001B[49m\u001B[43m(\u001B[49m\u001B[43mother\u001B[49m\u001B[43m)\u001B[49m\u001B[43m)\u001B[49m\n\u001B[1;32m    219\u001B[0m     \u001B[38;5;28;01mif\u001B[39;00m isscalar(other) \u001B[38;5;129;01mor\u001B[39;00m \u001B[38;5;129;01mnot\u001B[39;00m \u001B[38;5;28mhasattr\u001B[39m(other, \u001B[38;5;124m'\u001B[39m\u001B[38;5;124m__rmul__\u001B[39m\u001B[38;5;124m'\u001B[39m) :\n\u001B[1;32m    220\u001B[0m         \u001B[38;5;28;01mreturn\u001B[39;00m N\u001B[38;5;241m.\u001B[39mdot(\u001B[38;5;28mself\u001B[39m, other)\n",
      "File \u001B[0;32m<__array_function__ internals>:180\u001B[0m, in \u001B[0;36mdot\u001B[0;34m(*args, **kwargs)\u001B[0m\n",
      "\u001B[0;31mValueError\u001B[0m: shapes (1,4) and (1,4) not aligned: 4 (dim 1) != 1 (dim 0)"
     ]
    }
   ],
   "source": [
    "# IHR CODE\n",
    "print(gauss_elimination(A))"
   ]
  },
  {
   "cell_type": "code",
   "execution_count": null,
   "metadata": {},
   "outputs": [],
   "source": [
    "B = np.matrix( [[0,1,-1,3],[1,2,-2,2],[2,-1,2,15]], dtype=np.float64 )\n",
    "print( B )"
   ]
  },
  {
   "cell_type": "code",
   "execution_count": null,
   "metadata": {},
   "outputs": [],
   "source": [
    "# IHR CODE\n",
    "gauss_elimination(B)\n"
   ]
  },
  {
   "cell_type": "code",
   "execution_count": null,
   "metadata": {},
   "outputs": [],
   "source": [
    "C = np.matrix( [[1,2,3,4],[5,6,7,8]], dtype=np.float64 )\n",
    "print(C)"
   ]
  },
  {
   "cell_type": "code",
   "execution_count": null,
   "metadata": {},
   "outputs": [],
   "source": [
    "# IHR CODE\n"
   ]
  },
  {
   "cell_type": "code",
   "execution_count": null,
   "metadata": {},
   "outputs": [],
   "source": [
    "D = np.matrix( [[1,2],[3,4],[6,8]], dtype=np.float64 )\n",
    "print(D)"
   ]
  },
  {
   "cell_type": "code",
   "execution_count": null,
   "metadata": {},
   "outputs": [],
   "source": [
    "# IHR CODE\n"
   ]
  },
  {
   "cell_type": "code",
   "execution_count": null,
   "metadata": {},
   "outputs": [],
   "source": [
    "E = np.array([[0,0,1,2,3],[0,0,7,14,11],[0,0,7,14,12]], dtype=np.float64 )\n",
    "print(E)"
   ]
  },
  {
   "cell_type": "code",
   "execution_count": null,
   "metadata": {},
   "outputs": [],
   "source": [
    "# IHR CODE\n"
   ]
  },
  {
   "cell_type": "code",
   "execution_count": null,
   "metadata": {},
   "outputs": [],
   "source": [
    "F = np.array([[0,1,2,3,4],[0,0,1,7,8],[0,0,0,1,11],[0,0,0,0,1]], dtype=np.float64 )\n",
    "print(F)"
   ]
  },
  {
   "cell_type": "code",
   "execution_count": null,
   "metadata": {},
   "outputs": [],
   "source": [
    "# IHR CODE\n"
   ]
  },
  {
   "cell_type": "markdown",
   "metadata": {},
   "source": [
    "**Kommentare**\n",
    "\n",
    "Gerne dürfen Sie Kommentare zu Ihrer Funktion (wie sie funktioniert, was sie kann, was sie nicht kann) in eine Markdown-Zelle schreiben, indem Sie die untenstehende Zeile doppelklicken und anpassen. So können Sie je nachdem zusätzliche Teilpunkte erreichen."
   ]
  },
  {
   "cell_type": "markdown",
   "metadata": {},
   "source": [
    "Formatierungsbeispiele (bitte entfernen):\n",
    "\n",
    "*kursiver Text*\n",
    "\n",
    "**fetter Text**\n",
    "\n",
    "`python_funktion()`\n",
    "\n",
    "Aufzählung:\n",
    "* 1\n",
    "* 2\n",
    "* 3"
   ]
  },
  {
   "cell_type": "markdown",
   "metadata": {
    "collapsed": true
   },
   "source": [
    "# Freiwillige Zusatzaufgaben\n",
    "\n",
    "Die freiwilligen Zusatzaufgaben sind nicht mehr Teil des Mini-Challenge und geben keine Punkte. Trotzdem können Sie (falls Sie Zeit dazu haben) damit noch viel zum Thema dazulernen und sicherstellen, dass Sie alles verstanden haben."
   ]
  },
  {
   "cell_type": "markdown",
   "metadata": {},
   "source": [
    "## Zusatz 1: Rang einer Matrix bestimmen (einfach)\n",
    "\n",
    "Implementieren Sie eine Funktion `rang( M )`, die den Rang einer Matrix `M` aus deren Zeilenstufenform (über `gauss_elimination`) bestimmt.\n",
    "\n",
    "**Hinweis**: Die Funktionen np.sum(), np.any() oder np.all() können dabei sehr hilfreich sein."
   ]
  },
  {
   "cell_type": "code",
   "execution_count": null,
   "metadata": {},
   "outputs": [],
   "source": [
    "# IHR CODE"
   ]
  },
  {
   "cell_type": "markdown",
   "metadata": {},
   "source": [
    "## Zusatz 2: Gauss-Jordan-Verfahren -  Implementierung der Rückwärtssubstitution\n",
    "\n",
    "Implementieren Sie nun eine Funktion `gauss_jordan`, die eine Matrix mit `gauss_elimination` in Zeilenstufenform bringt und danach mit Rücksubstitution die Matrix auf die reduzierte Zeilenstufenform bringt. Diese Aufgabe ist nun etwas schwieriger als Aufgabe 3, da Sie nur noch den unten aufgeführten Hinweis bekommen. Wenden Sie die Funktion auf die Matrizen <b>A</b> bis <b>F</b> an.\n",
    "\n",
    "**Hinweis zum Algorithmus**:\n",
    "Verwenden Sie einen *Pivot*, d.h. eine Position in der Matrix dargestellt mit den Variablen `i` und `j`. Starten Sie ganz unten links in der Matrix und bewegen Sie den Pivot Schritt um Schritt nach rechts. Wenn Sie die erste 1 sehen (in der Matrix in Zeilenstufenform), addieren Sie passende vielfache der aktuellen Zeile zu allen oberen Zeilen und starten eine Zeile weiter oben wieder ganz links und iterieren nach rechts, bis Sie alle Zeilen abgearbeitet haben. Sie sollten auch den Fall berücksichtigen, wenn eine Zeile nur aus Nullen besteht - dann müssen Sie am Ende der Zeile mit dem Pivot einfach an den Anfang der Zeile obendran springen."
   ]
  },
  {
   "cell_type": "code",
   "execution_count": null,
   "metadata": {},
   "outputs": [],
   "source": [
    "# IHR CODE"
   ]
  },
  {
   "cell_type": "markdown",
   "metadata": {},
   "source": [
    "## Zusatz 3: Solve-Funktion mit Fallunterscheidung\n",
    "\n",
    "Schreiben Sie eine Funktion solve( M ), die die Matrix $M$ mittels dem Gauss-Jordan-Verfahren in die reduzierte Zeilenstufenform bringt und anschliessend entweder falls möglich ein Lösungstupel zurückgibt oder eine Meldung generiert, dass das System unendlich viele oder keine Lösungen besitzt."
   ]
  },
  {
   "cell_type": "code",
   "execution_count": null,
   "metadata": {},
   "outputs": [],
   "source": [
    "# IHR CODE"
   ]
  },
  {
   "cell_type": "code",
   "execution_count": null,
   "metadata": {},
   "outputs": [],
   "source": []
  },
  {
   "cell_type": "code",
   "execution_count": null,
   "metadata": {},
   "outputs": [],
   "source": []
  },
  {
   "cell_type": "code",
   "execution_count": null,
   "metadata": {},
   "outputs": [],
   "source": []
  }
 ],
 "metadata": {
  "kernelspec": {
   "display_name": "Python 3 (ipykernel)",
   "language": "python",
   "name": "python3"
  },
  "language_info": {
   "codemirror_mode": {
    "name": "ipython",
    "version": 3
   },
   "file_extension": ".py",
   "mimetype": "text/x-python",
   "name": "python",
   "nbconvert_exporter": "python",
   "pygments_lexer": "ipython3",
   "version": "3.9.10"
  }
 },
 "nbformat": 4,
 "nbformat_minor": 2
}
