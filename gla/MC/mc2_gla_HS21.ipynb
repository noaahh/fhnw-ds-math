{
 "cells": [
  {
   "cell_type": "markdown",
   "metadata": {},
   "source": [
    "**Beteiligte:** *Bitte hier Namen des Teams / Name der Einzelperson einfügen, siehe Bemerkungen unten*"
   ]
  },
  {
   "attachments": {
    "image.png": {
     "image/png": "[encoded data removed]"
    }
   },
   "cell_type": "markdown",
   "metadata": {},
   "source": [
    "<div style=\"width: 80%\">\n",
    "<img src=\"attachment:image.png\"><br>\n",
    "<div style=\"font-size: 20pt; float: left;\">Grundlagen der linearen Algebra</div>\n",
    "<div style=\"font-size: 20pt; text-align: right;\">HS 2021</div>\n",
    "<div style=\"font-size: 15pt; margin-top: 10px;\">Fachexperten: Roger Burkhardt, Joana Portmann</div>\n",
    "</div>\n",
    "<br>\n",
    "\n",
    "\n",
    "# Mini-Challenge 2 zum Thema *Matrizenalgebra*\n",
    "\n",
    "In der zweiten Mini-Challenge setzen Sie sich vertieft mit den verschiedenen Matrizenoperationen, die Sie inzwischen in Skript und Übungen kennengelernt haben sollten, auseinander. Zusätzlich vertiefen Sie Ihr Wissen über die numpy-Bibliothek, indem Sie einige besprochene Methoden konkret implementieren und dadurch die Besonderheiten von numpy kennenlernen, an die man sich durchaus etwas gewöhnen muss. Mit der Lösung dieser Mini-Challenge und dem genauen Verständnis aller getätigten Schritte können Sie sich ein erstes leicht vertieftes Wissen über numpy aneignen, dass Sie in einigen weitern wichtigen Kompetenzen des Studiums wieder dringend brauchen werden (Machine Learning, Deep Learning, High-Performance Computing, ..). Stellen Sie also sicher, dass Sie jeden einzelnen Schritt gut verstanden haben, dann werden die kommenden Mini-Challenges für Sie wesentlich einfacher sein.\n",
    "\n",
    "**zu beachten:**\n",
    "\n",
    "* Wir stellen Ihnen teilweise schon ein Rahmengerüst der Implementierung zur Verfügung. Verändern Sie bitte diese Gerüste nicht, sondern fügen Sie Ihren Code bei den entsprechenden Kommentaren ein. \n",
    "\n",
    "* Sie dürfen in dieses Notebook über den Menüpunkt 'Insert' durchaus weitere Zeilen einfügen. Falls Sie gerne Markdown-Notizen in die Zelle einfügen möchten, können Sie den Modus der Zelle von 'Code' auf 'Markdown' setzen (oder Esc-M drücken).\n",
    "\n",
    "* Je besser Sie Ihre Berechnungen und Ihren Code kommentieren, desto eher können Sie bei Fehlern noch Teilpunkte erhalten.\n",
    "\n",
    "**Abgabeformalitäten:**\n",
    "\n",
    "* Geben Sie das ergänzte Jupyter-Notebook spätestens bis zum **09.11.2021** um **23:59** per Email an [Roger Burkhardt](mailto:roger.burkhardt@fhnw.ch) ab.\n",
    "* Sie dürfen die Mini-Challenge in Teams (Teamgrösse: max. 4 Personen) lösen und abgeben. \n",
    "* Ausserhalb der Teams darf durchaus über die Übung diskutiert werden, programmieren soll aber jede Gruppe für sich. Gleichen sich zwei abgegebene Notebooks zu stark, werden die Notebooks beider Parteien als nicht sinnvoll bearbeitet betrachtet."
   ]
  },
  {
   "cell_type": "markdown",
   "metadata": {},
   "source": [
    "Für diese Mini-Challenge benötigen Sie nur die numpy-Bibliothek, für die freiwilligen Aufgaben sind `sympy` und `matplotlib` ebenfalls erlaubt:"
   ]
  },
  {
   "cell_type": "code",
   "execution_count": 215,
   "metadata": {},
   "outputs": [],
   "source": [
    "import numpy as np"
   ]
  },
  {
   "cell_type": "markdown",
   "metadata": {},
   "source": [
    "## Aufgabe 1: Das Matrizenprodukt (10 Punkte)"
   ]
  },
  {
   "cell_type": "markdown",
   "metadata": {},
   "source": [
    "Gegeben seien die Matrizen\n",
    "\n",
    "$$\n",
    "A = \\begin{pmatrix} 2 & 2 & -2 \\\\ 1 & 0 & 2 \\\\ -2 & -3 & 3 \\end{pmatrix}, \\qquad B = \\begin{pmatrix} 5 & -2 \\\\ -1 & 7 \\\\ 0 & 0 \\end{pmatrix}, \\qquad C = \\begin{pmatrix} 0 & 3 \\\\ 3 & -5 \\end{pmatrix}, \\qquad D = \\begin{pmatrix} 1 & -1 \\end{pmatrix}\n",
    "$$\n",
    "\n",
    "Berechnen Sie systematisch alle möglichen Produkte mit numpy. Definieren Sie dazu eine Liste aller Matrizen und iterieren Sie mit zwei for-Loops darüber, um alle möglichen Kombinationen abzudecken. Denken Sie daran, dass das Matrizenprodukt nicht kommutativ ist.\n",
    "\n",
    "**Hinweise:** \n",
    "* Wenn Sie nicht prüfen, ob ein bestimmtes Matrizenprodukt überhaupt möglich ist, dann wird der for-Loop mit einem Fehler abbrechen. Prüfen Sie die Existenz des Produkts über das `shape`-Attribut der numpy-Arrays und geben Sie entweder das Matrixprodukt aus oder eine Meldung, dass das Produkt nicht existiert.\n",
    "* Wir stellen Ihnen eine Funktion `numpy2latex` zur Verfügung, die ein numpy-Array schön mit LateX für das Jupyter-Notebook formatiert. Studieren Sie die Beispielausgabe und verwenden Sie diese Funktion in Ihrem Code.\n",
    "* Mit [Format-Strings](https://pyformat.info/) können Sie Ihre Ausgabe sauber organisieren: `print( \"Wert: {}\".format( wert ) )`"
   ]
  },
  {
   "cell_type": "code",
   "execution_count": 216,
   "metadata": {},
   "outputs": [
    {
     "data": {
      "text/latex": [
       "$\\displaystyle \\begin{pmatrix}3 & -2 &  \\\\ -7 & 6 &  \\\\ \\end{pmatrix}$"
      ],
      "text/plain": [
       "<IPython.core.display.Math object>"
      ]
     },
     "metadata": {},
     "output_type": "display_data"
    }
   ],
   "source": [
    "from IPython.display import display, Math\n",
    "\n",
    "def numpy2latex( A ):\n",
    "    \"\"\"\n",
    "    Funktion zum Umwandeln eines zweidimensionalen numpy-Arrays in einen Latex-String.\n",
    "    \"\"\"\n",
    "    # Prüfe, ob das übergebene Array zwei Dimensionen besitzt\n",
    "    if len( A.shape ) > 2:\n",
    "        raise Exception( \"Nur zweidimensionale Arrays erlaubt!\" )\n",
    "    \n",
    "    # Erstelle latex-String\n",
    "    latex = \"\\\\begin{pmatrix}\"\n",
    "    for i in range( A.shape[0] ):\n",
    "        line = \"\"\n",
    "        for j in range( A.shape[1] ):\n",
    "            line += str( A[i,j] ) + \" & \"\n",
    "        latex += line + \" \\\\\\\\ \"\n",
    "    latex += \"\\\\end{pmatrix}\"\n",
    "    return latex\n",
    "\n",
    "# Erstelle eine Beispielmatrix und gebe sie mit `display` und `Math` aus\n",
    "M = np.array( [[3, -2], [-7, 6]] )\n",
    "display(Math(numpy2latex( M )))"
   ]
  },
  {
   "cell_type": "code",
   "execution_count": 217,
   "metadata": {},
   "outputs": [
    {
     "name": "stdout",
     "output_type": "stream",
     "text": [
      "1 * 2\n"
     ]
    },
    {
     "name": "stderr",
     "output_type": "stream",
     "text": [
      "/var/folders/b7/mggcdv6x2zv6337xmxr20svh0000gn/T/ipykernel_98646/4216124703.py:13: DeprecationWarning: elementwise comparison failed; this will raise an error in the future.\n",
      "  print(f\"{i + 1} * {matrices.index(M) + 1}\")\n"
     ]
    },
    {
     "data": {
      "text/latex": [
       "$\\displaystyle \\begin{pmatrix}8 & 10 &  \\\\ 5 & -2 &  \\\\ -7 & -17 &  \\\\ \\end{pmatrix}$"
      ],
      "text/plain": [
       "<IPython.core.display.Math object>"
      ]
     },
     "metadata": {},
     "output_type": "display_data"
    },
    {
     "name": "stdout",
     "output_type": "stream",
     "text": [
      "2 * 3\n"
     ]
    },
    {
     "data": {
      "text/latex": [
       "$\\displaystyle \\begin{pmatrix}-6 & 25 &  \\\\ 21 & -38 &  \\\\ 0 & 0 &  \\\\ \\end{pmatrix}$"
      ],
      "text/plain": [
       "<IPython.core.display.Math object>"
      ]
     },
     "metadata": {},
     "output_type": "display_data"
    },
    {
     "name": "stdout",
     "output_type": "stream",
     "text": [
      "4 * 3\n"
     ]
    },
    {
     "data": {
      "text/latex": [
       "$\\displaystyle \\begin{pmatrix}-3 & 8 &  \\\\ \\end{pmatrix}$"
      ],
      "text/plain": [
       "<IPython.core.display.Math object>"
      ]
     },
     "metadata": {},
     "output_type": "display_data"
    }
   ],
   "source": [
    "# IHR CODE\n",
    "A = np.array([[2, 2, -2], [1, 0, 2], [-2, -3, 3]])\n",
    "B = np.array([[5, -2], [-1, 7], [0, 0]])\n",
    "C = np.array([[0, 3], [3, -5]])\n",
    "D = np.array([[1, -1]])\n",
    "matrices = [A, B, C, D]\n",
    "\n",
    "for i in range(len(matrices)):\n",
    "    I_M = matrices[i]\n",
    "    \n",
    "    for M in [x for x in matrices if not np.array_equal(x, I_M)]:\n",
    "        if np.shape(I_M)[1] == np.shape(M)[0]:\n",
    "            print(f\"{i + 1} * {matrices.index(M) + 1}\")\n",
    "            display(Math(numpy2latex( I_M@M )))"
   ]
  },
  {
   "cell_type": "markdown",
   "metadata": {},
   "source": [
    "## Aufgabe 2: Berechnung der Determinante (15 Punkte)"
   ]
  },
  {
   "cell_type": "markdown",
   "metadata": {},
   "source": [
    "Schreiben Sie eine Funktion `myDet(A)`, welche die Determinante einer quadratischen Matrix A mit Hilfe des Laplace'schen Entwicklungssatzes berechnet (10P). Vergleichen Sie Ihre Funktion mit der Funktion in numpy (Korrektheit, Genauigkeit, Performance) (5P)!"
   ]
  },
  {
   "cell_type": "markdown",
   "metadata": {},
   "source": [
    "**Hinweise**: \n",
    "* numpy's Funktionen zur Berechnung der Determinante und der Inverse erzeugen schnell numerische Fehler im Bereich von $< 10^{-15}$. Diese Fehler sind zwar für uns vernachlässigbar klein, aber sind einerseits optisch unschön und machen andererseits Probleme, wenn man mit dem Vergleichsoperator auf das erwartete Resultat prüfen möchte. Falls solche Fehler auftreten, verwenden Sie die Funktion `np.isclose( x, y )` statt `x == y`.\n",
    "* Wichtig: Beachten Sie, dass die Zuweisung `A2 = A` keine Kopie der Matrix `A` macht, sondern nur einen neuen Zeiger auf das gleiche Objekt. Wenn Sie nach einer derartigen Zuweisung `A` verändern, verändern Sie damit automatisch auch `A2`. Benutzen Sie für eine echte Kopie `A2 = A.copy()` und stellen Sie am Schluss sicher, dass Sie die ursprüngliche Matrix `A` nicht verändert haben.\n",
    "* Auch mit dem Zugriff auf einzelne Zeilen oder Spalten per Index bekommen Sie nicht eine Kopie der Zeile/Spalte zurück, sondern ebenfalls nur einen Zeiger, passen Sie also auf!\n",
    "* Indem Sie [%timeit](https://ipython.readthedocs.io/en/stable/interactive/magics.html#magic-timeit) mit einem Leerzeichen vor den Aufruf einer Funktion schreiben, können Sie die benötigte Laufzeit ausgeben lassen.\n",
    "* Selbstverständlich dürfen Sie auch Hilsfunktionen (z.B. calcMinor(A,i,j), calcCofactor(A,i,j), ...) erstellen und verwenden!"
   ]
  },
  {
   "cell_type": "code",
   "execution_count": 301,
   "metadata": {},
   "outputs": [
    {
     "data": {
      "text/latex": [
       "$\\displaystyle \\begin{pmatrix}3 & 1 & 5 & 1 &  \\\\ -1 & 0 & -2 & 0 &  \\\\ 0 & 0 & 1 & -1 &  \\\\ 4 & 0 & 4 & 1 &  \\\\ \\end{pmatrix}$"
      ],
      "text/plain": [
       "<IPython.core.display.Math object>"
      ]
     },
     "metadata": {},
     "output_type": "display_data"
    },
    {
     "name": "stdout",
     "output_type": "stream",
     "text": [
      "-3\n",
      "-2.9999999999999996\n",
      "True\n"
     ]
    }
   ],
   "source": [
    "# IHR CODE\n",
    "\n",
    "A = np.array([[3, 1, 5, 1], [-1, 0, -2, 0], [0, 0, 1, -1], [4, 0, 4, 1]])\n",
    "# A = np.random.rand(5, 5)\n",
    "display(Math(numpy2latex( A )))\n",
    "\n",
    "def get_minor(arr, i, j):\n",
    "    return np.delete(np.delete(arr, i, axis=0), j, axis=1)\n",
    "            \n",
    "def myDet(M):\n",
    "    r, c = np.shape(M)\n",
    "    if r != c:\n",
    "        raise Exception(\"Matrix nicht quadratisch\")\n",
    "    \n",
    "    if r == 2:\n",
    "        return (M[0][0] * M[1][1]) - (M[1][0] * M[0][1])\n",
    "    \n",
    "    return sum(((-1) ** (i + 2)) * M[i][0] * myDet(get_minor(M.copy(), i, 0)) for i in range(r))\n",
    "\n",
    "x, y = myDet(A), np.linalg.det(A)\n",
    "print(x)\n",
    "print(y)\n",
    "print(np.isclose(x,y))"
   ]
  },
  {
   "cell_type": "code",
   "execution_count": 300,
   "metadata": {},
   "outputs": [
    {
     "name": "stdout",
     "output_type": "stream",
     "text": [
      "---\n",
      "Test run #1\n",
      "443 µs ± 6.36 µs per loop (mean ± std. dev. of 7 runs, 1,000 loops each)\n",
      "1.91 µs ± 28.6 ns per loop (mean ± std. dev. of 7 runs, 1,000,000 loops each)\n",
      "---\n",
      "Test run #2\n",
      "2.71 ms ± 26.6 µs per loop (mean ± std. dev. of 7 runs, 100 loops each)\n",
      "2.11 µs ± 65.2 ns per loop (mean ± std. dev. of 7 runs, 100,000 loops each)\n",
      "---\n",
      "Test run #3\n",
      "19 ms ± 305 µs per loop (mean ± std. dev. of 7 runs, 10 loops each)\n",
      "2.12 µs ± 29.7 ns per loop (mean ± std. dev. of 7 runs, 100,000 loops each)\n",
      "---\n",
      "Test run #4\n",
      "155 ms ± 3 ms per loop (mean ± std. dev. of 7 runs, 10 loops each)\n",
      "2.2 µs ± 7.33 ns per loop (mean ± std. dev. of 7 runs, 100,000 loops each)\n",
      "---\n",
      "Test run #5\n",
      "1.37 s ± 16 ms per loop (mean ± std. dev. of 7 runs, 1 loop each)\n",
      "2.46 µs ± 54.7 ns per loop (mean ± std. dev. of 7 runs, 100,000 loops each)\n"
     ]
    }
   ],
   "source": [
    "for n in range(5):\n",
    "    print(\"---\")\n",
    "    print(f\"Test run #{n + 1}\")\n",
    "    \n",
    "    dim = 5 + n\n",
    "    M_rand = np.random.rand(dim, dim)\n",
    "    \n",
    "    %timeit myDet(M_rand)\n",
    "    %timeit np.linalg.det(M_rand)"
   ]
  },
  {
   "cell_type": "markdown",
   "metadata": {},
   "source": [
    "## Aufgabe 3: Berechnung der Inversen (10 Punkte)"
   ]
  },
  {
   "cell_type": "markdown",
   "metadata": {},
   "source": [
    "Schreiben Sie eine Funktion `myInv(A)`, welche die Inverse einer regulären quadratischen Matrix `A` mit Hilfe der Adjunktenmethode  berechnet (8P). Geben Sie mit `raise Exception(\"<Ihre Fehlermeldung>\")` eine Fehlermeldung aus, falls die die Matrix `A` nicht invertierbar ist (2P). "
   ]
  },
  {
   "cell_type": "code",
   "execution_count": 317,
   "metadata": {},
   "outputs": [
    {
     "data": {
      "text/latex": [
       "$\\displaystyle \\begin{pmatrix}0.6245094578865744 & 0.5101534592485347 & 0.8352438209141846 & 0.9738908476140881 & 0.10870335058935854 & 0.33606581027866844 & 0.401571243845554 & 0.5079158070131482 & 0.05334067703340528 & 0.8419335127232472 &  \\\\ 0.9251537860254355 & 0.591617101260115 & 0.38095410428084875 & 0.5895599702929848 & 0.0788578429211787 & 0.9148237461113747 & 0.42410875246599267 & 0.718096675324508 & 0.7188869609040764 & 0.965896322513297 &  \\\\ 0.4762971450983978 & 0.4358754818057847 & 0.575226706142541 & 0.533604742325854 & 0.3138778041259972 & 0.4171057564387237 & 0.48639921582094947 & 0.30619409263660957 & 0.1698719096025002 & 0.5848830313350829 &  \\\\ 0.2727750806429661 & 0.8135509735838917 & 0.04137369307676564 & 0.39213933682953583 & 0.017331336125244734 & 0.3467578115606885 & 0.9965820839684123 & 0.3215082329503174 & 0.9040501318049943 & 0.3949904261877418 &  \\\\ 0.2130255668172497 & 0.5117224692943979 & 0.4059524359580753 & 0.31081352908653914 & 0.5830444842910043 & 0.2872559710537663 & 0.4347444163561597 & 0.49540840944754905 & 0.8418341850328491 & 0.6482926789088735 &  \\\\ 0.11524871548852866 & 0.25108373673858175 & 0.5843415740312129 & 0.13522975124127323 & 0.7459436616451597 & 0.5181439175493827 & 0.15120148092299301 & 0.023652632204172575 & 0.8557453050052384 & 0.45289657164650576 &  \\\\ 0.2599435843584518 & 0.9621723682637034 & 0.2745160675678142 & 0.49966145532482387 & 0.7075477346910121 & 0.16567688548229031 & 0.03457745384432431 & 0.39005071336809205 & 0.24999087042245127 & 0.8121735283698948 &  \\\\ 0.9366744535219717 & 0.9661883654857107 & 0.6932352408344666 & 0.4910746955327213 & 0.04270799559056626 & 0.505105341600179 & 0.4068085708023763 & 0.6973806817827005 & 0.059356541826987796 & 0.7542617604462976 &  \\\\ 0.5907737100304536 & 0.09467095580809559 & 0.8159431224605287 & 0.5482303502455113 & 0.6452855040433367 & 0.9244765171493723 & 0.5680874165945405 & 0.7266333329578156 & 0.6144445154106929 & 0.9407359776550711 &  \\\\ 0.8139213019503788 & 0.7541990925319307 & 0.12385739417570507 & 0.40660507132624335 & 0.2882542213517876 & 0.4082743880465446 & 0.7927338836312715 & 0.5859601931851606 & 0.5772858019546007 & 0.3625226299069171 &  \\\\ \\end{pmatrix}$"
      ],
      "text/plain": [
       "<IPython.core.display.Math object>"
      ]
     },
     "metadata": {},
     "output_type": "display_data"
    },
    {
     "data": {
      "text/latex": [
       "$\\displaystyle \\begin{pmatrix}-1.3008280000653398 & 2.016254111302835 & 5.441498532509907 & -2.61230160645655 & 2.9811987452217683 & -0.64556903354698 & -1.5844480666018979 & -0.9581173998554534 & -3.1091000058045193 & 0.8025960549474205 &  \\\\ 0.5394714087709926 & -1.0293175105099273 & -2.9368924648120074 & 1.3241903295713493 & -2.0543757304594292 & 0.9652233234680004 & 1.0872233915505278 & 1.202729957826625 & 0.8636921770115698 & 0.07367219697502361 &  \\\\ 0.8118212966874541 & -1.0425270749119158 & -1.2938831568458673 & 0.1902258259877634 & 0.0691378705478774 & 0.9601907724495145 & -0.6926255709003802 & 1.2699905179080597 & 0.26620945761120746 & -0.3320846316917247 &  \\\\ 3.15197620800986 & -1.0797932674329385 & -5.373702922898257 & 1.270068536327462 & -3.4891914307324834 & 1.312679849339039 & 1.3422237801404109 & -0.746218820230271 & 1.7669372728699309 & 1.4028089203546288 &  \\\\ -0.3531231555571444 & -0.5096881663481228 & 0.5764409683659638 & -0.5950259453684309 & -0.2290905625815327 & 0.13536342799760426 & 0.6346962513927695 & -0.5819128850580986 & 0.3775148207401769 & 0.9461274912193159 &  \\\\ 0.9157400492717888 & -1.2820174670944167 & -5.475122092093853 & 2.3316597544132542 & -5.19814319434405 & 1.6234618270897831 & 1.7075479139947665 & 0.9633763243425442 & 3.4057924036326552 & 0.1816982971588234 &  \\\\ -1.557352754824072 & 0.15565993189558905 & 4.349453888869283 & -0.08946017307022187 & 1.624740353763192 & -1.3209092878698199 & -0.8040639226022678 & -0.43780290060790833 & -0.6879557649061797 & -0.4755001737539675 &  \\\\ 1.7580210592829375 & -2.0026587371900373 & -7.107123901202933 & 1.2544088651191105 & -1.8364971405261887 & 0.14804893950718606 & 1.0284929173686346 & 1.3621958913691046 & 3.25490044254151 & 0.8671138518399973 &  \\\\ 0.6947576159766756 & 0.5262812354514239 & -0.9943656699054301 & -0.17892196399631444 & 0.9705616302431509 & 0.6905728647240575 & -0.6250448921358956 & -0.31228435879985456 & -0.7932003346289379 & 0.2935053069233607 &  \\\\ -3.3073205568768476 & 3.0894999359914053 & 9.629848217951634 & -2.0791448611987478 & 5.376900016330763 & -2.745520428351355 & -1.3098621284603165 & -1.3173911987496312 & -3.5185163560068684 & -2.442785891415052 &  \\\\ \\end{pmatrix}$"
      ],
      "text/plain": [
       "<IPython.core.display.Math object>"
      ]
     },
     "metadata": {},
     "output_type": "display_data"
    },
    {
     "data": {
      "text/latex": [
       "$\\displaystyle \\begin{pmatrix}-1.3008280000653407 & 2.0162541113028345 & 5.441498532509909 & -2.61230160645655 & 2.981198745221768 & -0.6455690335469803 & -1.5844480666018967 & -0.958117399855455 & -3.1091000058045237 & 0.8025960549474166 &  \\\\ 0.5394714087709928 & -1.0293175105099261 & -2.9368924648120047 & 1.324190329571348 & -2.054375730459428 & 0.9652233234679997 & 1.0872233915505265 & 1.202729957826625 & 0.8636921770115696 & 0.07367219697502463 &  \\\\ 0.811821296687454 & -1.0425270749119135 & -1.2938831568458677 & 0.19022582598776352 & 0.06913787054787689 & 0.9601907724495136 & -0.6926255709003792 & 1.2699905179080586 & 0.26620945761120757 & -0.3320846316917245 &  \\\\ 3.151976208009859 & -1.0797932674329396 & -5.373702922898258 & 1.2700685363274613 & -3.4891914307324825 & 1.31267984933904 & 1.3422237801404113 & -0.7462188202302678 & 1.7669372728699315 & 1.4028089203546286 &  \\\\ -0.3531231555571434 & -0.5096881663481221 & 0.5764409683659627 & -0.5950259453684301 & -0.2290905625815323 & 0.13536342799760473 & 0.6346962513927685 & -0.5819128850580978 & 0.37751482074017595 & 0.946127491219315 &  \\\\ 0.9157400492717903 & -1.2820174670944182 & -5.475122092093853 & 2.331659754413254 & -5.198143194344047 & 1.6234618270897825 & 1.7075479139947674 & 0.9633763243425467 & 3.405792403632658 & 0.18169829715882632 &  \\\\ -1.55735275482407 & 0.15565993189558927 & 4.349453888869281 & -0.08946017307022215 & 1.624740353763191 & -1.3209092878698194 & -0.8040639226022669 & -0.43780290060790883 & -0.6879557649061795 & -0.4755001737539681 &  \\\\ 1.758021059282936 & -2.0026587371900373 & -7.107123901202932 & 1.2544088651191099 & -1.8364971405261892 & 0.1480489395071868 & 1.028492917368634 & 1.3621958913691057 & 3.2549004425415102 & 0.8671138518399976 &  \\\\ 0.6947576159766737 & 0.5262812354514241 & -0.9943656699054283 & -0.1789219639963145 & 0.9705616302431507 & 0.690572864724057 & -0.6250448921358954 & -0.3122843587998549 & -0.7932003346289382 & 0.2935053069233599 &  \\\\ -3.307320556876848 & 3.089499935991406 & 9.629848217951633 & -2.0791448611987473 & 5.376900016330765 & -2.745520428351353 & -1.3098621284603158 & -1.3173911987496338 & -3.5185163560068684 & -2.44278589141505 &  \\\\ \\end{pmatrix}$"
      ],
      "text/plain": [
       "<IPython.core.display.Math object>"
      ]
     },
     "metadata": {},
     "output_type": "display_data"
    },
    {
     "name": "stdout",
     "output_type": "stream",
     "text": [
      "[[ True  True  True  True  True  True  True  True  True  True]\n",
      " [ True  True  True  True  True  True  True  True  True  True]\n",
      " [ True  True  True  True  True  True  True  True  True  True]\n",
      " [ True  True  True  True  True  True  True  True  True  True]\n",
      " [ True  True  True  True  True  True  True  True  True  True]\n",
      " [ True  True  True  True  True  True  True  True  True  True]\n",
      " [ True  True  True  True  True  True  True  True  True  True]\n",
      " [ True  True  True  True  True  True  True  True  True  True]\n",
      " [ True  True  True  True  True  True  True  True  True  True]\n",
      " [ True  True  True  True  True  True  True  True  True  True]]\n"
     ]
    }
   ],
   "source": [
    "# IHR CODE\n",
    "# A = np.array([[2, 0, 1], [3, 2, -4], [1, 0, 3]])\n",
    "A = np.random.rand(10, 10)\n",
    "display(Math(numpy2latex( A )))\n",
    "\n",
    "def myInv(M):\n",
    "    r, c = np.shape(M)\n",
    "    M_C = M.copy()\n",
    "    \n",
    "    for i in range(r):\n",
    "        for j in range(c):\n",
    "            M_C[i][j] = ((-1) ** (i + j + 2)) * np.linalg.det(get_minor(M.copy(), i, j))\n",
    "    \n",
    "    return (1/np.linalg.det(M)) * np.transpose(M_C)\n",
    "\n",
    "\n",
    "x, y = myInv(A), np.linalg.inv(A)\n",
    "\n",
    "display(Math(numpy2latex( x )))\n",
    "display(Math(numpy2latex( y )))\n",
    "print(np.isclose(x,y))"
   ]
  },
  {
   "cell_type": "markdown",
   "metadata": {},
   "source": [
    "## Aufgabe 4: Lineare Gleichungssysteme ohne Gauss lösen (15 Punkte)\n",
    "\n",
    "Im Folienmaterial lernen Sie zusätzlich zum Gauss-Algorithmus zwei weitere Möglichkeiten kennen, wie Sie die Lösung eines linearen Gleichungssystems berechnen können.\n",
    "\n",
    "Gegeben seien die linearen Gleichungssysteme $G_1$:\n",
    "\n",
    "$$\n",
    "\\left| \\;\n",
    "\\begin{align}\n",
    "x + y + z &= 2\\\\\n",
    "6x - 4y + 5z &= 31\\\\\n",
    "5x + 2y + 2z &=13\n",
    "\\end{align}\n",
    "\\;\n",
    "\\right|\n",
    "$$\n",
    "\n",
    "und $G_2$:\n",
    "\n",
    "$$\n",
    "\\left| \\;\n",
    "\\begin{align}\n",
    "x + y + z &= 2\\\\\n",
    "y - 3z &= 1\\\\\n",
    "2x + y + 5z &=0\n",
    "\\end{align}\n",
    "\\;\n",
    "\\right|\n",
    "$$"
   ]
  },
  {
   "cell_type": "markdown",
   "metadata": {},
   "source": [
    "mit den erweiterten Koeffizientenmatrizen"
   ]
  },
  {
   "cell_type": "code",
   "execution_count": 220,
   "metadata": {},
   "outputs": [],
   "source": [
    "M1 = np.array( [[1,1,1,2],[6,-4,5,31],[5,2,2,13]] )\n",
    "M2 = np.array( [[1,1,1,2],[0,1,-3,1],[2,1,5,0]] )"
   ]
  },
  {
   "cell_type": "markdown",
   "metadata": {},
   "source": [
    "### a) Lösung mit Hilfe der Inversen (5P)\n",
    "\n",
    "Schreiben Sie eine Funktion `solve( M )`, die als Argument die erweiterte Koeffizientenmatrix eines linearen Gleichungssystems nimmt und es mittels der inversen Matrix löst. Probieren Sie Ihre Funktion an den beiden Gleichungssystemen $G_1$ und $G_2$ aus.\n",
    "\n",
    "**Hinweis**: Dieses Verfahren funktioniert nur für invertierbare Koeffizientenmatrizen. Geben Sie mit `raise Exception(\"<Ihre Fehlermeldung>\")` eine Fehlermeldung aus, falls die zu `M` gehörende Koeffizientenmatrix nicht invertierbar ist."
   ]
  },
  {
   "cell_type": "code",
   "execution_count": 221,
   "metadata": {},
   "outputs": [],
   "source": [
    "# IHR CODE\n"
   ]
  },
  {
   "cell_type": "markdown",
   "metadata": {},
   "source": [
    "### b) Lösung mittels Cramer'scher Regel (5P)\n",
    "\n",
    "Schreiben Sie nun eine Funktion `cramer( M )`, die als Argument ebenfalls die erweiterte Koeffizientenmatrix eines linearen Gleichungssystems nimmt, aber jetzt die Cramer'sche Regel zur Lösung verwendet. Probieren Sie Ihre Funktion ebenfalls an den beiden Gleichungssystemen $G_1$ und $G_2$ aus.\n",
    "\n",
    "**Hinweis**: Hier funktioniert das Verfahren nur für Koeffizientenmatrizen mit Determinante ungleich Null, geben Sie ebenfalls falls nötig eine entsprechende Fehlermeldung aus."
   ]
  },
  {
   "cell_type": "code",
   "execution_count": 222,
   "metadata": {},
   "outputs": [],
   "source": [
    "# IHR CODE\n"
   ]
  },
  {
   "cell_type": "markdown",
   "metadata": {},
   "source": [
    "### c) Performance (5P)\n",
    "\n",
    "Indem Sie [%timeit](https://ipython.readthedocs.io/en/stable/interactive/magics.html#magic-timeit) mit einem Leerzeichen vor den Aufruf der Funktion schreiben, können Sie Ihre beiden Funktionen `solve` und `cramer` jeweils mehrere Male laufen lassen und die durchschnittlich benötigte Laufzeit ausgeben lassen."
   ]
  },
  {
   "cell_type": "code",
   "execution_count": 223,
   "metadata": {},
   "outputs": [],
   "source": [
    "# IHR CODE\n"
   ]
  },
  {
   "cell_type": "code",
   "execution_count": 224,
   "metadata": {},
   "outputs": [],
   "source": [
    "# IHR CODE\n"
   ]
  },
  {
   "cell_type": "markdown",
   "metadata": {},
   "source": [
    "Mit `np.random.rand()` können Sie auch grössere Matrizen generieren. Es ist zu erwarten, dass die Unterschiede bei grossen Matrizen noch grösser werden. Zum Beispiel:"
   ]
  },
  {
   "cell_type": "code",
   "execution_count": 225,
   "metadata": {},
   "outputs": [],
   "source": [
    "S = np.random.rand(20,21)"
   ]
  },
  {
   "cell_type": "markdown",
   "metadata": {},
   "source": [
    "Berechnen Sie auch hier die durchschnittlich benötigten Laufzeiten:"
   ]
  },
  {
   "cell_type": "code",
   "execution_count": 226,
   "metadata": {},
   "outputs": [],
   "source": [
    "# IHR CODE\n"
   ]
  },
  {
   "cell_type": "code",
   "execution_count": 227,
   "metadata": {},
   "outputs": [],
   "source": [
    "# IHR CODE\n"
   ]
  },
  {
   "cell_type": "markdown",
   "metadata": {},
   "source": [
    "Was stellen Sie fest? Welche Ihrer Funktionen ist effizienter?"
   ]
  },
  {
   "cell_type": "markdown",
   "metadata": {},
   "source": [
    "*Ihre Antwort in Markdown*"
   ]
  },
  {
   "cell_type": "markdown",
   "metadata": {},
   "source": [
    "### Freiwilliger Zusatz\n",
    "\n",
    "Überlegen Sie sich dazu auch, für welche spezifischen Problemfälle Sie 1) den Gaussalgorithmus, 2) die Inverse der Koeffizientenmatrix oder 3) die Cramer'sche Regel einsetzen würden (unterscheiden Sie dabei, ob Sie von Hand rechnen müssen oder den Computer benützen dürfen)."
   ]
  },
  {
   "cell_type": "code",
   "execution_count": null,
   "metadata": {},
   "outputs": [],
   "source": []
  }
 ],
 "metadata": {
  "kernelspec": {
   "display_name": "Python 3 (ipykernel)",
   "language": "python",
   "name": "python3"
  },
  "language_info": {
   "codemirror_mode": {
    "name": "ipython",
    "version": 3
   },
   "file_extension": ".py",
   "mimetype": "text/x-python",
   "name": "python",
   "nbconvert_exporter": "python",
   "pygments_lexer": "ipython3",
   "version": "3.10.7"
  }
 },
 "nbformat": 4,
 "nbformat_minor": 2
}
