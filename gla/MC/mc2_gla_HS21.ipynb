{
 "cells": [
  {
   "cell_type": "markdown",
   "metadata": {},
   "source": [
    "**Beteiligte:** *Bitte hier Namen des Teams / Name der Einzelperson einfügen, siehe Bemerkungen unten*"
   ]
  },
  {
   "attachments": {
    "image.png": {
     "image/png": "[encoded data removed]"
    }
   },
   "cell_type": "markdown",
   "metadata": {},
   "source": [
    "<div style=\"width: 80%\">\n",
    "<img src=\"attachment:image.png\"><br>\n",
    "<div style=\"font-size: 20pt; float: left;\">Grundlagen der linearen Algebra</div>\n",
    "<div style=\"font-size: 20pt; text-align: right;\">HS 2021</div>\n",
    "<div style=\"font-size: 15pt; margin-top: 10px;\">Fachexperten: Roger Burkhardt, Joana Portmann</div>\n",
    "</div>\n",
    "<br>\n",
    "\n",
    "\n",
    "# Mini-Challenge 2 zum Thema *Matrizenalgebra*\n",
    "\n",
    "In der zweiten Mini-Challenge setzen Sie sich vertieft mit den verschiedenen Matrizenoperationen, die Sie inzwischen in Skript und Übungen kennengelernt haben sollten, auseinander. Zusätzlich vertiefen Sie Ihr Wissen über die numpy-Bibliothek, indem Sie einige besprochene Methoden konkret implementieren und dadurch die Besonderheiten von numpy kennenlernen, an die man sich durchaus etwas gewöhnen muss. Mit der Lösung dieser Mini-Challenge und dem genauen Verständnis aller getätigten Schritte können Sie sich ein erstes leicht vertieftes Wissen über numpy aneignen, dass Sie in einigen weitern wichtigen Kompetenzen des Studiums wieder dringend brauchen werden (Machine Learning, Deep Learning, High-Performance Computing, ..). Stellen Sie also sicher, dass Sie jeden einzelnen Schritt gut verstanden haben, dann werden die kommenden Mini-Challenges für Sie wesentlich einfacher sein.\n",
    "\n",
    "**zu beachten:**\n",
    "\n",
    "* Wir stellen Ihnen teilweise schon ein Rahmengerüst der Implementierung zur Verfügung. Verändern Sie bitte diese Gerüste nicht, sondern fügen Sie Ihren Code bei den entsprechenden Kommentaren ein. \n",
    "\n",
    "* Sie dürfen in dieses Notebook über den Menüpunkt 'Insert' durchaus weitere Zeilen einfügen. Falls Sie gerne Markdown-Notizen in die Zelle einfügen möchten, können Sie den Modus der Zelle von 'Code' auf 'Markdown' setzen (oder Esc-M drücken).\n",
    "\n",
    "* Je besser Sie Ihre Berechnungen und Ihren Code kommentieren, desto eher können Sie bei Fehlern noch Teilpunkte erhalten.\n",
    "\n",
    "**Abgabeformalitäten:**\n",
    "\n",
    "* Geben Sie das ergänzte Jupyter-Notebook spätestens bis zum **09.11.2021** um **23:59** per Email an [Roger Burkhardt](mailto:roger.burkhardt@fhnw.ch) ab.\n",
    "* Sie dürfen die Mini-Challenge in Teams (Teamgrösse: max. 4 Personen) lösen und abgeben. \n",
    "* Ausserhalb der Teams darf durchaus über die Übung diskutiert werden, programmieren soll aber jede Gruppe für sich. Gleichen sich zwei abgegebene Notebooks zu stark, werden die Notebooks beider Parteien als nicht sinnvoll bearbeitet betrachtet."
   ]
  },
  {
   "cell_type": "markdown",
   "metadata": {},
   "source": [
    "Für diese Mini-Challenge benötigen Sie nur die numpy-Bibliothek, für die freiwilligen Aufgaben sind `sympy` und `matplotlib` ebenfalls erlaubt:"
   ]
  },
  {
   "cell_type": "code",
   "execution_count": 2,
   "metadata": {},
   "outputs": [],
   "source": [
    "import numpy as np"
   ]
  },
  {
   "cell_type": "markdown",
   "metadata": {},
   "source": [
    "## Aufgabe 1: Das Matrizenprodukt (10 Punkte)"
   ]
  },
  {
   "cell_type": "markdown",
   "metadata": {},
   "source": [
    "Gegeben seien die Matrizen\n",
    "\n",
    "$$\n",
    "A = \\begin{pmatrix} 2 & 2 & -2 \\\\ 1 & 0 & 2 \\\\ -2 & -3 & 3 \\end{pmatrix}, \\qquad B = \\begin{pmatrix} 5 & -2 \\\\ -1 & 7 \\\\ 0 & 0 \\end{pmatrix}, \\qquad C = \\begin{pmatrix} 0 & 3 \\\\ 3 & -5 \\end{pmatrix}, \\qquad D = \\begin{pmatrix} 1 & -1 \\end{pmatrix}\n",
    "$$\n",
    "\n",
    "Berechnen Sie systematisch alle möglichen Produkte mit numpy. Definieren Sie dazu eine Liste aller Matrizen und iterieren Sie mit zwei for-Loops darüber, um alle möglichen Kombinationen abzudecken. Denken Sie daran, dass das Matrizenprodukt nicht kommutativ ist.\n",
    "\n",
    "**Hinweise:** \n",
    "* Wenn Sie nicht prüfen, ob ein bestimmtes Matrizenprodukt überhaupt möglich ist, dann wird der for-Loop mit einem Fehler abbrechen. Prüfen Sie die Existenz des Produkts über das `shape`-Attribut der numpy-Arrays und geben Sie entweder das Matrixprodukt aus oder eine Meldung, dass das Produkt nicht existiert.\n",
    "* Wir stellen Ihnen eine Funktion `numpy2latex` zur Verfügung, die ein numpy-Array schön mit LateX für das Jupyter-Notebook formatiert. Studieren Sie die Beispielausgabe und verwenden Sie diese Funktion in Ihrem Code.\n",
    "* Mit [Format-Strings](https://pyformat.info/) können Sie Ihre Ausgabe sauber organisieren: `print( \"Wert: {}\".format( wert ) )`"
   ]
  },
  {
   "cell_type": "code",
   "execution_count": 3,
   "metadata": {},
   "outputs": [
    {
     "data": {
      "text/plain": "<IPython.core.display.Math object>",
      "text/latex": "$\\displaystyle \\begin{pmatrix}3 & -2 &  \\\\ -7 & 6 &  \\\\ \\end{pmatrix}$"
     },
     "metadata": {},
     "output_type": "display_data"
    }
   ],
   "source": [
    "from IPython.display import display, Math\n",
    "\n",
    "def numpy2latex( A ):\n",
    "    \"\"\"\n",
    "    Funktion zum Umwandeln eines zweidimensionalen numpy-Arrays in einen Latex-String.\n",
    "    \"\"\"\n",
    "    # Prüfe, ob das übergebene Array zwei Dimensionen besitzt\n",
    "    if len( A.shape ) > 2:\n",
    "        raise Exception( \"Nur zweidimensionale Arrays erlaubt!\" )\n",
    "    \n",
    "    # Erstelle latex-String\n",
    "    latex = \"\\\\begin{pmatrix}\"\n",
    "    for i in range( A.shape[0] ):\n",
    "        line = \"\"\n",
    "        for j in range( A.shape[1] ):\n",
    "            line += str( A[i,j] ) + \" & \"\n",
    "        latex += line + \" \\\\\\\\ \"\n",
    "    latex += \"\\\\end{pmatrix}\"\n",
    "    return latex\n",
    "\n",
    "# Erstelle eine Beispielmatrix und gebe sie mit `display` und `Math` aus\n",
    "M = np.array( [[3, -2], [-7, 6]] )\n",
    "display(Math(numpy2latex( M )))"
   ]
  },
  {
   "cell_type": "code",
   "execution_count": 4,
   "metadata": {},
   "outputs": [
    {
     "name": "stdout",
     "output_type": "stream",
     "text": [
      "1 * 2\n"
     ]
    },
    {
     "name": "stderr",
     "output_type": "stream",
     "text": [
      "/var/folders/b7/mggcdv6x2zv6337xmxr20svh0000gn/T/ipykernel_62154/827954548.py:13: DeprecationWarning: elementwise comparison failed; this will raise an error in the future.\n",
      "  print(f\"{i + 1} * {matrices.index(M) + 1}\")\n"
     ]
    },
    {
     "data": {
      "text/plain": "<IPython.core.display.Math object>",
      "text/latex": "$\\displaystyle \\begin{pmatrix}8 & 10 &  \\\\ 5 & -2 &  \\\\ -7 & -17 &  \\\\ \\end{pmatrix}$"
     },
     "metadata": {},
     "output_type": "display_data"
    },
    {
     "name": "stdout",
     "output_type": "stream",
     "text": [
      "2 * 3\n"
     ]
    },
    {
     "data": {
      "text/plain": "<IPython.core.display.Math object>",
      "text/latex": "$\\displaystyle \\begin{pmatrix}-6 & 25 &  \\\\ 21 & -38 &  \\\\ 0 & 0 &  \\\\ \\end{pmatrix}$"
     },
     "metadata": {},
     "output_type": "display_data"
    },
    {
     "name": "stdout",
     "output_type": "stream",
     "text": [
      "4 * 3\n"
     ]
    },
    {
     "data": {
      "text/plain": "<IPython.core.display.Math object>",
      "text/latex": "$\\displaystyle \\begin{pmatrix}-3 & 8 &  \\\\ \\end{pmatrix}$"
     },
     "metadata": {},
     "output_type": "display_data"
    }
   ],
   "source": [
    "# IHR CODE\n",
    "A = np.array([[2, 2, -2], [1, 0, 2], [-2, -3, 3]])\n",
    "B = np.array([[5, -2], [-1, 7], [0, 0]])\n",
    "C = np.array([[0, 3], [3, -5]])\n",
    "D = np.array([[1, -1]])\n",
    "matrices = [A, B, C, D]\n",
    "\n",
    "for i in range(len(matrices)):\n",
    "    I_M = matrices[i]\n",
    "    \n",
    "    for M in [x for x in matrices if not np.array_equal(x, I_M)]:\n",
    "        if np.shape(I_M)[1] == np.shape(M)[0]:\n",
    "            print(f\"{i + 1} * {matrices.index(M) + 1}\")\n",
    "            display(Math(numpy2latex( I_M@M )))"
   ]
  },
  {
   "cell_type": "markdown",
   "metadata": {},
   "source": [
    "## Aufgabe 2: Berechnung der Determinante (15 Punkte)"
   ]
  },
  {
   "cell_type": "markdown",
   "metadata": {},
   "source": [
    "Schreiben Sie eine Funktion `myDet(A)`, welche die Determinante einer quadratischen Matrix A mit Hilfe des Laplace'schen Entwicklungssatzes berechnet (10P). Vergleichen Sie Ihre Funktion mit der Funktion in numpy (Korrektheit, Genauigkeit, Performance) (5P)!"
   ]
  },
  {
   "cell_type": "markdown",
   "metadata": {},
   "source": [
    "**Hinweise**: \n",
    "* numpy's Funktionen zur Berechnung der Determinante und der Inverse erzeugen schnell numerische Fehler im Bereich von $< 10^{-15}$. Diese Fehler sind zwar für uns vernachlässigbar klein, aber sind einerseits optisch unschön und machen andererseits Probleme, wenn man mit dem Vergleichsoperator auf das erwartete Resultat prüfen möchte. Falls solche Fehler auftreten, verwenden Sie die Funktion `np.isclose( x, y )` statt `x == y`.\n",
    "* Wichtig: Beachten Sie, dass die Zuweisung `A2 = A` keine Kopie der Matrix `A` macht, sondern nur einen neuen Zeiger auf das gleiche Objekt. Wenn Sie nach einer derartigen Zuweisung `A` verändern, verändern Sie damit automatisch auch `A2`. Benutzen Sie für eine echte Kopie `A2 = A.copy()` und stellen Sie am Schluss sicher, dass Sie die ursprüngliche Matrix `A` nicht verändert haben.\n",
    "* Auch mit dem Zugriff auf einzelne Zeilen oder Spalten per Index bekommen Sie nicht eine Kopie der Zeile/Spalte zurück, sondern ebenfalls nur einen Zeiger, passen Sie also auf!\n",
    "* Indem Sie [%timeit](https://ipython.readthedocs.io/en/stable/interactive/magics.html#magic-timeit) mit einem Leerzeichen vor den Aufruf einer Funktion schreiben, können Sie die benötigte Laufzeit ausgeben lassen.\n",
    "* Selbstverständlich dürfen Sie auch Hilsfunktionen (z.B. calcMinor(A,i,j), calcCofactor(A,i,j), ...) erstellen und verwenden!"
   ]
  },
  {
   "cell_type": "code",
   "execution_count": 5,
   "metadata": {},
   "outputs": [
    {
     "data": {
      "text/plain": "<IPython.core.display.Math object>",
      "text/latex": "$\\displaystyle \\begin{pmatrix}3 & 1 & 5 & 1 &  \\\\ -1 & 0 & -2 & 0 &  \\\\ 0 & 0 & 1 & -1 &  \\\\ 4 & 0 & 4 & 1 &  \\\\ \\end{pmatrix}$"
     },
     "metadata": {},
     "output_type": "display_data"
    },
    {
     "name": "stdout",
     "output_type": "stream",
     "text": [
      "-3\n",
      "-2.9999999999999996\n",
      "True\n"
     ]
    }
   ],
   "source": [
    "# IHR CODE\n",
    "\n",
    "A = np.array([[3, 1, 5, 1], [-1, 0, -2, 0], [0, 0, 1, -1], [4, 0, 4, 1]])\n",
    "# A = np.random.rand(5, 5)\n",
    "display(Math(numpy2latex( A )))\n",
    "\n",
    "def get_minor(arr, i, j):\n",
    "    return np.delete(np.delete(arr, i, axis=0), j, axis=1)\n",
    "            \n",
    "def myDet(M):\n",
    "    r, c = np.shape(M)\n",
    "    if r != c:\n",
    "        raise Exception(\"Matrix nicht quadratisch\")\n",
    "    \n",
    "    if r == 2:\n",
    "        return (M[0][0] * M[1][1]) - (M[1][0] * M[0][1])\n",
    "    \n",
    "    return sum(((-1) ** (i + 2)) * M[i][0] * myDet(get_minor(M.copy(), i, 0)) for i in range(r))\n",
    "\n",
    "x, y = myDet(A), np.linalg.det(A)\n",
    "print(x)\n",
    "print(y)\n",
    "print(np.isclose(x,y))"
   ]
  },
  {
   "cell_type": "code",
   "execution_count": 6,
   "metadata": {},
   "outputs": [
    {
     "name": "stdout",
     "output_type": "stream",
     "text": [
      "---\n",
      "Test run #1\n"
     ]
    },
    {
     "ename": "KeyboardInterrupt",
     "evalue": "",
     "output_type": "error",
     "traceback": [
      "\u001B[0;31m---------------------------------------------------------------------------\u001B[0m",
      "\u001B[0;31mKeyboardInterrupt\u001B[0m                         Traceback (most recent call last)",
      "Cell \u001B[0;32mIn [6], line 8\u001B[0m\n\u001B[1;32m      5\u001B[0m dim \u001B[38;5;241m=\u001B[39m \u001B[38;5;241m5\u001B[39m \u001B[38;5;241m+\u001B[39m n\n\u001B[1;32m      6\u001B[0m M_rand \u001B[38;5;241m=\u001B[39m np\u001B[38;5;241m.\u001B[39mrandom\u001B[38;5;241m.\u001B[39mrand(dim, dim)\n\u001B[0;32m----> 8\u001B[0m \u001B[43mget_ipython\u001B[49m\u001B[43m(\u001B[49m\u001B[43m)\u001B[49m\u001B[38;5;241;43m.\u001B[39;49m\u001B[43mrun_line_magic\u001B[49m\u001B[43m(\u001B[49m\u001B[38;5;124;43m'\u001B[39;49m\u001B[38;5;124;43mtimeit\u001B[39;49m\u001B[38;5;124;43m'\u001B[39;49m\u001B[43m,\u001B[49m\u001B[43m \u001B[49m\u001B[38;5;124;43m'\u001B[39;49m\u001B[38;5;124;43mmyDet(M_rand)\u001B[39;49m\u001B[38;5;124;43m'\u001B[39;49m\u001B[43m)\u001B[49m\n\u001B[1;32m      9\u001B[0m get_ipython()\u001B[38;5;241m.\u001B[39mrun_line_magic(\u001B[38;5;124m'\u001B[39m\u001B[38;5;124mtimeit\u001B[39m\u001B[38;5;124m'\u001B[39m, \u001B[38;5;124m'\u001B[39m\u001B[38;5;124mnp.linalg.det(M_rand)\u001B[39m\u001B[38;5;124m'\u001B[39m)\n",
      "File \u001B[0;32m~/dev/fhnw-ds-math/venv/lib/python3.10/site-packages/IPython/core/interactiveshell.py:2309\u001B[0m, in \u001B[0;36mInteractiveShell.run_line_magic\u001B[0;34m(self, magic_name, line, _stack_depth)\u001B[0m\n\u001B[1;32m   2307\u001B[0m     kwargs[\u001B[38;5;124m'\u001B[39m\u001B[38;5;124mlocal_ns\u001B[39m\u001B[38;5;124m'\u001B[39m] \u001B[38;5;241m=\u001B[39m \u001B[38;5;28mself\u001B[39m\u001B[38;5;241m.\u001B[39mget_local_scope(stack_depth)\n\u001B[1;32m   2308\u001B[0m \u001B[38;5;28;01mwith\u001B[39;00m \u001B[38;5;28mself\u001B[39m\u001B[38;5;241m.\u001B[39mbuiltin_trap:\n\u001B[0;32m-> 2309\u001B[0m     result \u001B[38;5;241m=\u001B[39m \u001B[43mfn\u001B[49m\u001B[43m(\u001B[49m\u001B[38;5;241;43m*\u001B[39;49m\u001B[43margs\u001B[49m\u001B[43m,\u001B[49m\u001B[43m \u001B[49m\u001B[38;5;241;43m*\u001B[39;49m\u001B[38;5;241;43m*\u001B[39;49m\u001B[43mkwargs\u001B[49m\u001B[43m)\u001B[49m\n\u001B[1;32m   2310\u001B[0m \u001B[38;5;28;01mreturn\u001B[39;00m result\n",
      "File \u001B[0;32m~/dev/fhnw-ds-math/venv/lib/python3.10/site-packages/IPython/core/magics/execution.py:1166\u001B[0m, in \u001B[0;36mExecutionMagics.timeit\u001B[0;34m(self, line, cell, local_ns)\u001B[0m\n\u001B[1;32m   1163\u001B[0m         \u001B[38;5;28;01mif\u001B[39;00m time_number \u001B[38;5;241m>\u001B[39m\u001B[38;5;241m=\u001B[39m \u001B[38;5;241m0.2\u001B[39m:\n\u001B[1;32m   1164\u001B[0m             \u001B[38;5;28;01mbreak\u001B[39;00m\n\u001B[0;32m-> 1166\u001B[0m all_runs \u001B[38;5;241m=\u001B[39m \u001B[43mtimer\u001B[49m\u001B[38;5;241;43m.\u001B[39;49m\u001B[43mrepeat\u001B[49m\u001B[43m(\u001B[49m\u001B[43mrepeat\u001B[49m\u001B[43m,\u001B[49m\u001B[43m \u001B[49m\u001B[43mnumber\u001B[49m\u001B[43m)\u001B[49m\n\u001B[1;32m   1167\u001B[0m best \u001B[38;5;241m=\u001B[39m \u001B[38;5;28mmin\u001B[39m(all_runs) \u001B[38;5;241m/\u001B[39m number\n\u001B[1;32m   1168\u001B[0m worst \u001B[38;5;241m=\u001B[39m \u001B[38;5;28mmax\u001B[39m(all_runs) \u001B[38;5;241m/\u001B[39m number\n",
      "File \u001B[0;32m/Library/Frameworks/Python.framework/Versions/3.10/lib/python3.10/timeit.py:206\u001B[0m, in \u001B[0;36mTimer.repeat\u001B[0;34m(self, repeat, number)\u001B[0m\n\u001B[1;32m    204\u001B[0m r \u001B[38;5;241m=\u001B[39m []\n\u001B[1;32m    205\u001B[0m \u001B[38;5;28;01mfor\u001B[39;00m i \u001B[38;5;129;01min\u001B[39;00m \u001B[38;5;28mrange\u001B[39m(repeat):\n\u001B[0;32m--> 206\u001B[0m     t \u001B[38;5;241m=\u001B[39m \u001B[38;5;28;43mself\u001B[39;49m\u001B[38;5;241;43m.\u001B[39;49m\u001B[43mtimeit\u001B[49m\u001B[43m(\u001B[49m\u001B[43mnumber\u001B[49m\u001B[43m)\u001B[49m\n\u001B[1;32m    207\u001B[0m     r\u001B[38;5;241m.\u001B[39mappend(t)\n\u001B[1;32m    208\u001B[0m \u001B[38;5;28;01mreturn\u001B[39;00m r\n",
      "File \u001B[0;32m~/dev/fhnw-ds-math/venv/lib/python3.10/site-packages/IPython/core/magics/execution.py:156\u001B[0m, in \u001B[0;36mTimer.timeit\u001B[0;34m(self, number)\u001B[0m\n\u001B[1;32m    154\u001B[0m gc\u001B[38;5;241m.\u001B[39mdisable()\n\u001B[1;32m    155\u001B[0m \u001B[38;5;28;01mtry\u001B[39;00m:\n\u001B[0;32m--> 156\u001B[0m     timing \u001B[38;5;241m=\u001B[39m \u001B[38;5;28;43mself\u001B[39;49m\u001B[38;5;241;43m.\u001B[39;49m\u001B[43minner\u001B[49m\u001B[43m(\u001B[49m\u001B[43mit\u001B[49m\u001B[43m,\u001B[49m\u001B[43m \u001B[49m\u001B[38;5;28;43mself\u001B[39;49m\u001B[38;5;241;43m.\u001B[39;49m\u001B[43mtimer\u001B[49m\u001B[43m)\u001B[49m\n\u001B[1;32m    157\u001B[0m \u001B[38;5;28;01mfinally\u001B[39;00m:\n\u001B[1;32m    158\u001B[0m     \u001B[38;5;28;01mif\u001B[39;00m gcold:\n",
      "File \u001B[0;32m<magic-timeit>:1\u001B[0m, in \u001B[0;36minner\u001B[0;34m(_it, _timer)\u001B[0m\n",
      "Cell \u001B[0;32mIn [5], line 18\u001B[0m, in \u001B[0;36mmyDet\u001B[0;34m(M)\u001B[0m\n\u001B[1;32m     15\u001B[0m \u001B[38;5;28;01mif\u001B[39;00m r \u001B[38;5;241m==\u001B[39m \u001B[38;5;241m2\u001B[39m:\n\u001B[1;32m     16\u001B[0m     \u001B[38;5;28;01mreturn\u001B[39;00m (M[\u001B[38;5;241m0\u001B[39m][\u001B[38;5;241m0\u001B[39m] \u001B[38;5;241m*\u001B[39m M[\u001B[38;5;241m1\u001B[39m][\u001B[38;5;241m1\u001B[39m]) \u001B[38;5;241m-\u001B[39m (M[\u001B[38;5;241m1\u001B[39m][\u001B[38;5;241m0\u001B[39m] \u001B[38;5;241m*\u001B[39m M[\u001B[38;5;241m0\u001B[39m][\u001B[38;5;241m1\u001B[39m])\n\u001B[0;32m---> 18\u001B[0m \u001B[38;5;28;01mreturn\u001B[39;00m \u001B[38;5;28;43msum\u001B[39;49m\u001B[43m(\u001B[49m\u001B[43m(\u001B[49m\u001B[43m(\u001B[49m\u001B[38;5;241;43m-\u001B[39;49m\u001B[38;5;241;43m1\u001B[39;49m\u001B[43m)\u001B[49m\u001B[43m \u001B[49m\u001B[38;5;241;43m*\u001B[39;49m\u001B[38;5;241;43m*\u001B[39;49m\u001B[43m \u001B[49m\u001B[43m(\u001B[49m\u001B[43mi\u001B[49m\u001B[43m \u001B[49m\u001B[38;5;241;43m+\u001B[39;49m\u001B[43m \u001B[49m\u001B[38;5;241;43m2\u001B[39;49m\u001B[43m)\u001B[49m\u001B[43m)\u001B[49m\u001B[43m \u001B[49m\u001B[38;5;241;43m*\u001B[39;49m\u001B[43m \u001B[49m\u001B[43mM\u001B[49m\u001B[43m[\u001B[49m\u001B[43mi\u001B[49m\u001B[43m]\u001B[49m\u001B[43m[\u001B[49m\u001B[38;5;241;43m0\u001B[39;49m\u001B[43m]\u001B[49m\u001B[43m \u001B[49m\u001B[38;5;241;43m*\u001B[39;49m\u001B[43m \u001B[49m\u001B[43mmyDet\u001B[49m\u001B[43m(\u001B[49m\u001B[43mget_minor\u001B[49m\u001B[43m(\u001B[49m\u001B[43mM\u001B[49m\u001B[38;5;241;43m.\u001B[39;49m\u001B[43mcopy\u001B[49m\u001B[43m(\u001B[49m\u001B[43m)\u001B[49m\u001B[43m,\u001B[49m\u001B[43m \u001B[49m\u001B[43mi\u001B[49m\u001B[43m,\u001B[49m\u001B[43m \u001B[49m\u001B[38;5;241;43m0\u001B[39;49m\u001B[43m)\u001B[49m\u001B[43m)\u001B[49m\u001B[43m \u001B[49m\u001B[38;5;28;43;01mfor\u001B[39;49;00m\u001B[43m \u001B[49m\u001B[43mi\u001B[49m\u001B[43m \u001B[49m\u001B[38;5;129;43;01min\u001B[39;49;00m\u001B[43m \u001B[49m\u001B[38;5;28;43mrange\u001B[39;49m\u001B[43m(\u001B[49m\u001B[43mr\u001B[49m\u001B[43m)\u001B[49m\u001B[43m)\u001B[49m\n",
      "Cell \u001B[0;32mIn [5], line 18\u001B[0m, in \u001B[0;36m<genexpr>\u001B[0;34m(.0)\u001B[0m\n\u001B[1;32m     15\u001B[0m \u001B[38;5;28;01mif\u001B[39;00m r \u001B[38;5;241m==\u001B[39m \u001B[38;5;241m2\u001B[39m:\n\u001B[1;32m     16\u001B[0m     \u001B[38;5;28;01mreturn\u001B[39;00m (M[\u001B[38;5;241m0\u001B[39m][\u001B[38;5;241m0\u001B[39m] \u001B[38;5;241m*\u001B[39m M[\u001B[38;5;241m1\u001B[39m][\u001B[38;5;241m1\u001B[39m]) \u001B[38;5;241m-\u001B[39m (M[\u001B[38;5;241m1\u001B[39m][\u001B[38;5;241m0\u001B[39m] \u001B[38;5;241m*\u001B[39m M[\u001B[38;5;241m0\u001B[39m][\u001B[38;5;241m1\u001B[39m])\n\u001B[0;32m---> 18\u001B[0m \u001B[38;5;28;01mreturn\u001B[39;00m \u001B[38;5;28msum\u001B[39m(((\u001B[38;5;241m-\u001B[39m\u001B[38;5;241m1\u001B[39m) \u001B[38;5;241m*\u001B[39m\u001B[38;5;241m*\u001B[39m (i \u001B[38;5;241m+\u001B[39m \u001B[38;5;241m2\u001B[39m)) \u001B[38;5;241m*\u001B[39m M[i][\u001B[38;5;241m0\u001B[39m] \u001B[38;5;241m*\u001B[39m \u001B[43mmyDet\u001B[49m\u001B[43m(\u001B[49m\u001B[43mget_minor\u001B[49m\u001B[43m(\u001B[49m\u001B[43mM\u001B[49m\u001B[38;5;241;43m.\u001B[39;49m\u001B[43mcopy\u001B[49m\u001B[43m(\u001B[49m\u001B[43m)\u001B[49m\u001B[43m,\u001B[49m\u001B[43m \u001B[49m\u001B[43mi\u001B[49m\u001B[43m,\u001B[49m\u001B[43m \u001B[49m\u001B[38;5;241;43m0\u001B[39;49m\u001B[43m)\u001B[49m\u001B[43m)\u001B[49m \u001B[38;5;28;01mfor\u001B[39;00m i \u001B[38;5;129;01min\u001B[39;00m \u001B[38;5;28mrange\u001B[39m(r))\n",
      "Cell \u001B[0;32mIn [5], line 18\u001B[0m, in \u001B[0;36mmyDet\u001B[0;34m(M)\u001B[0m\n\u001B[1;32m     15\u001B[0m \u001B[38;5;28;01mif\u001B[39;00m r \u001B[38;5;241m==\u001B[39m \u001B[38;5;241m2\u001B[39m:\n\u001B[1;32m     16\u001B[0m     \u001B[38;5;28;01mreturn\u001B[39;00m (M[\u001B[38;5;241m0\u001B[39m][\u001B[38;5;241m0\u001B[39m] \u001B[38;5;241m*\u001B[39m M[\u001B[38;5;241m1\u001B[39m][\u001B[38;5;241m1\u001B[39m]) \u001B[38;5;241m-\u001B[39m (M[\u001B[38;5;241m1\u001B[39m][\u001B[38;5;241m0\u001B[39m] \u001B[38;5;241m*\u001B[39m M[\u001B[38;5;241m0\u001B[39m][\u001B[38;5;241m1\u001B[39m])\n\u001B[0;32m---> 18\u001B[0m \u001B[38;5;28;01mreturn\u001B[39;00m \u001B[38;5;28;43msum\u001B[39;49m\u001B[43m(\u001B[49m\u001B[43m(\u001B[49m\u001B[43m(\u001B[49m\u001B[38;5;241;43m-\u001B[39;49m\u001B[38;5;241;43m1\u001B[39;49m\u001B[43m)\u001B[49m\u001B[43m \u001B[49m\u001B[38;5;241;43m*\u001B[39;49m\u001B[38;5;241;43m*\u001B[39;49m\u001B[43m \u001B[49m\u001B[43m(\u001B[49m\u001B[43mi\u001B[49m\u001B[43m \u001B[49m\u001B[38;5;241;43m+\u001B[39;49m\u001B[43m \u001B[49m\u001B[38;5;241;43m2\u001B[39;49m\u001B[43m)\u001B[49m\u001B[43m)\u001B[49m\u001B[43m \u001B[49m\u001B[38;5;241;43m*\u001B[39;49m\u001B[43m \u001B[49m\u001B[43mM\u001B[49m\u001B[43m[\u001B[49m\u001B[43mi\u001B[49m\u001B[43m]\u001B[49m\u001B[43m[\u001B[49m\u001B[38;5;241;43m0\u001B[39;49m\u001B[43m]\u001B[49m\u001B[43m \u001B[49m\u001B[38;5;241;43m*\u001B[39;49m\u001B[43m \u001B[49m\u001B[43mmyDet\u001B[49m\u001B[43m(\u001B[49m\u001B[43mget_minor\u001B[49m\u001B[43m(\u001B[49m\u001B[43mM\u001B[49m\u001B[38;5;241;43m.\u001B[39;49m\u001B[43mcopy\u001B[49m\u001B[43m(\u001B[49m\u001B[43m)\u001B[49m\u001B[43m,\u001B[49m\u001B[43m \u001B[49m\u001B[43mi\u001B[49m\u001B[43m,\u001B[49m\u001B[43m \u001B[49m\u001B[38;5;241;43m0\u001B[39;49m\u001B[43m)\u001B[49m\u001B[43m)\u001B[49m\u001B[43m \u001B[49m\u001B[38;5;28;43;01mfor\u001B[39;49;00m\u001B[43m \u001B[49m\u001B[43mi\u001B[49m\u001B[43m \u001B[49m\u001B[38;5;129;43;01min\u001B[39;49;00m\u001B[43m \u001B[49m\u001B[38;5;28;43mrange\u001B[39;49m\u001B[43m(\u001B[49m\u001B[43mr\u001B[49m\u001B[43m)\u001B[49m\u001B[43m)\u001B[49m\n",
      "Cell \u001B[0;32mIn [5], line 18\u001B[0m, in \u001B[0;36m<genexpr>\u001B[0;34m(.0)\u001B[0m\n\u001B[1;32m     15\u001B[0m \u001B[38;5;28;01mif\u001B[39;00m r \u001B[38;5;241m==\u001B[39m \u001B[38;5;241m2\u001B[39m:\n\u001B[1;32m     16\u001B[0m     \u001B[38;5;28;01mreturn\u001B[39;00m (M[\u001B[38;5;241m0\u001B[39m][\u001B[38;5;241m0\u001B[39m] \u001B[38;5;241m*\u001B[39m M[\u001B[38;5;241m1\u001B[39m][\u001B[38;5;241m1\u001B[39m]) \u001B[38;5;241m-\u001B[39m (M[\u001B[38;5;241m1\u001B[39m][\u001B[38;5;241m0\u001B[39m] \u001B[38;5;241m*\u001B[39m M[\u001B[38;5;241m0\u001B[39m][\u001B[38;5;241m1\u001B[39m])\n\u001B[0;32m---> 18\u001B[0m \u001B[38;5;28;01mreturn\u001B[39;00m \u001B[38;5;28msum\u001B[39m(((\u001B[38;5;241m-\u001B[39m\u001B[38;5;241m1\u001B[39m) \u001B[38;5;241m*\u001B[39m\u001B[38;5;241m*\u001B[39m (i \u001B[38;5;241m+\u001B[39m \u001B[38;5;241m2\u001B[39m)) \u001B[38;5;241m*\u001B[39m M[i][\u001B[38;5;241m0\u001B[39m] \u001B[38;5;241m*\u001B[39m \u001B[43mmyDet\u001B[49m\u001B[43m(\u001B[49m\u001B[43mget_minor\u001B[49m\u001B[43m(\u001B[49m\u001B[43mM\u001B[49m\u001B[38;5;241;43m.\u001B[39;49m\u001B[43mcopy\u001B[49m\u001B[43m(\u001B[49m\u001B[43m)\u001B[49m\u001B[43m,\u001B[49m\u001B[43m \u001B[49m\u001B[43mi\u001B[49m\u001B[43m,\u001B[49m\u001B[43m \u001B[49m\u001B[38;5;241;43m0\u001B[39;49m\u001B[43m)\u001B[49m\u001B[43m)\u001B[49m \u001B[38;5;28;01mfor\u001B[39;00m i \u001B[38;5;129;01min\u001B[39;00m \u001B[38;5;28mrange\u001B[39m(r))\n",
      "Cell \u001B[0;32mIn [5], line 18\u001B[0m, in \u001B[0;36mmyDet\u001B[0;34m(M)\u001B[0m\n\u001B[1;32m     15\u001B[0m \u001B[38;5;28;01mif\u001B[39;00m r \u001B[38;5;241m==\u001B[39m \u001B[38;5;241m2\u001B[39m:\n\u001B[1;32m     16\u001B[0m     \u001B[38;5;28;01mreturn\u001B[39;00m (M[\u001B[38;5;241m0\u001B[39m][\u001B[38;5;241m0\u001B[39m] \u001B[38;5;241m*\u001B[39m M[\u001B[38;5;241m1\u001B[39m][\u001B[38;5;241m1\u001B[39m]) \u001B[38;5;241m-\u001B[39m (M[\u001B[38;5;241m1\u001B[39m][\u001B[38;5;241m0\u001B[39m] \u001B[38;5;241m*\u001B[39m M[\u001B[38;5;241m0\u001B[39m][\u001B[38;5;241m1\u001B[39m])\n\u001B[0;32m---> 18\u001B[0m \u001B[38;5;28;01mreturn\u001B[39;00m \u001B[38;5;28;43msum\u001B[39;49m\u001B[43m(\u001B[49m\u001B[43m(\u001B[49m\u001B[43m(\u001B[49m\u001B[38;5;241;43m-\u001B[39;49m\u001B[38;5;241;43m1\u001B[39;49m\u001B[43m)\u001B[49m\u001B[43m \u001B[49m\u001B[38;5;241;43m*\u001B[39;49m\u001B[38;5;241;43m*\u001B[39;49m\u001B[43m \u001B[49m\u001B[43m(\u001B[49m\u001B[43mi\u001B[49m\u001B[43m \u001B[49m\u001B[38;5;241;43m+\u001B[39;49m\u001B[43m \u001B[49m\u001B[38;5;241;43m2\u001B[39;49m\u001B[43m)\u001B[49m\u001B[43m)\u001B[49m\u001B[43m \u001B[49m\u001B[38;5;241;43m*\u001B[39;49m\u001B[43m \u001B[49m\u001B[43mM\u001B[49m\u001B[43m[\u001B[49m\u001B[43mi\u001B[49m\u001B[43m]\u001B[49m\u001B[43m[\u001B[49m\u001B[38;5;241;43m0\u001B[39;49m\u001B[43m]\u001B[49m\u001B[43m \u001B[49m\u001B[38;5;241;43m*\u001B[39;49m\u001B[43m \u001B[49m\u001B[43mmyDet\u001B[49m\u001B[43m(\u001B[49m\u001B[43mget_minor\u001B[49m\u001B[43m(\u001B[49m\u001B[43mM\u001B[49m\u001B[38;5;241;43m.\u001B[39;49m\u001B[43mcopy\u001B[49m\u001B[43m(\u001B[49m\u001B[43m)\u001B[49m\u001B[43m,\u001B[49m\u001B[43m \u001B[49m\u001B[43mi\u001B[49m\u001B[43m,\u001B[49m\u001B[43m \u001B[49m\u001B[38;5;241;43m0\u001B[39;49m\u001B[43m)\u001B[49m\u001B[43m)\u001B[49m\u001B[43m \u001B[49m\u001B[38;5;28;43;01mfor\u001B[39;49;00m\u001B[43m \u001B[49m\u001B[43mi\u001B[49m\u001B[43m \u001B[49m\u001B[38;5;129;43;01min\u001B[39;49;00m\u001B[43m \u001B[49m\u001B[38;5;28;43mrange\u001B[39;49m\u001B[43m(\u001B[49m\u001B[43mr\u001B[49m\u001B[43m)\u001B[49m\u001B[43m)\u001B[49m\n",
      "Cell \u001B[0;32mIn [5], line 18\u001B[0m, in \u001B[0;36m<genexpr>\u001B[0;34m(.0)\u001B[0m\n\u001B[1;32m     15\u001B[0m \u001B[38;5;28;01mif\u001B[39;00m r \u001B[38;5;241m==\u001B[39m \u001B[38;5;241m2\u001B[39m:\n\u001B[1;32m     16\u001B[0m     \u001B[38;5;28;01mreturn\u001B[39;00m (M[\u001B[38;5;241m0\u001B[39m][\u001B[38;5;241m0\u001B[39m] \u001B[38;5;241m*\u001B[39m M[\u001B[38;5;241m1\u001B[39m][\u001B[38;5;241m1\u001B[39m]) \u001B[38;5;241m-\u001B[39m (M[\u001B[38;5;241m1\u001B[39m][\u001B[38;5;241m0\u001B[39m] \u001B[38;5;241m*\u001B[39m M[\u001B[38;5;241m0\u001B[39m][\u001B[38;5;241m1\u001B[39m])\n\u001B[0;32m---> 18\u001B[0m \u001B[38;5;28;01mreturn\u001B[39;00m \u001B[38;5;28msum\u001B[39m(((\u001B[38;5;241m-\u001B[39m\u001B[38;5;241m1\u001B[39m) \u001B[38;5;241m*\u001B[39m\u001B[38;5;241m*\u001B[39m (i \u001B[38;5;241m+\u001B[39m \u001B[38;5;241m2\u001B[39m)) \u001B[38;5;241m*\u001B[39m M[i][\u001B[38;5;241m0\u001B[39m] \u001B[38;5;241m*\u001B[39m myDet(get_minor(\u001B[43mM\u001B[49m\u001B[38;5;241;43m.\u001B[39;49m\u001B[43mcopy\u001B[49m\u001B[43m(\u001B[49m\u001B[43m)\u001B[49m, i, \u001B[38;5;241m0\u001B[39m)) \u001B[38;5;28;01mfor\u001B[39;00m i \u001B[38;5;129;01min\u001B[39;00m \u001B[38;5;28mrange\u001B[39m(r))\n",
      "\u001B[0;31mKeyboardInterrupt\u001B[0m: "
     ]
    }
   ],
   "source": [
    "for n in range(5):\n",
    "    print(\"---\")\n",
    "    print(f\"Test run #{n + 1}\")\n",
    "    \n",
    "    dim = 5 + n\n",
    "    M_rand = np.random.rand(dim, dim)\n",
    "    \n",
    "    %timeit myDet(M_rand)\n",
    "    %timeit np.linalg.det(M_rand)"
   ]
  },
  {
   "cell_type": "markdown",
   "metadata": {},
   "source": [
    "## Aufgabe 3: Berechnung der Inversen (10 Punkte)"
   ]
  },
  {
   "cell_type": "markdown",
   "metadata": {},
   "source": [
    "Schreiben Sie eine Funktion `myInv(A)`, welche die Inverse einer regulären quadratischen Matrix `A` mit Hilfe der Adjunktenmethode  berechnet (8P). Geben Sie mit `raise Exception(\"<Ihre Fehlermeldung>\")` eine Fehlermeldung aus, falls die die Matrix `A` nicht invertierbar ist (2P). "
   ]
  },
  {
   "cell_type": "code",
   "execution_count": null,
   "metadata": {},
   "outputs": [],
   "source": [
    "# IHR CODE\n",
    "#A = np.array([[2, 0, 1], [3, 2, -4], [1, 0, 3]])\n",
    "A = np.random.rand(5, 5)\n",
    "display(Math(numpy2latex( A )))\n",
    "\n",
    "\n",
    "def myTranspose(M):\n",
    "    rows, cols = np.shape(M)\n",
    "    M_T = np.zeros(shape=(cols, rows))\n",
    "    \n",
    "    for i in range(rows):\n",
    "        for j in range(cols):\n",
    "            M_T[j][i] = M[i][j]\n",
    "            \n",
    "    return M_T\n",
    "\n",
    "def myInv(M):\n",
    "    r, c = np.shape(M)\n",
    "    M_C = M.copy()\n",
    "    \n",
    "    for i in range(r):\n",
    "        for j in range(c):\n",
    "            M_C[i][j] = ((-1) ** (i + j + 2)) * myDet(get_minor(M.copy(), i, j))\n",
    "    \n",
    "    return (1/myDet(M)) * myTranspose(M_C.copy())\n",
    "\n",
    "\n",
    "x, y = myInv(A), np.linalg.inv(A)\n",
    "display(Math(numpy2latex( np.isclose(x,y) )))"
   ]
  },
  {
   "cell_type": "markdown",
   "metadata": {},
   "source": [
    "## Aufgabe 4: Lineare Gleichungssysteme ohne Gauss lösen (15 Punkte)\n",
    "\n",
    "Im Folienmaterial lernen Sie zusätzlich zum Gauss-Algorithmus zwei weitere Möglichkeiten kennen, wie Sie die Lösung eines linearen Gleichungssystems berechnen können.\n",
    "\n",
    "Gegeben seien die linearen Gleichungssysteme $G_1$:\n",
    "\n",
    "$$\n",
    "\\left| \\;\n",
    "\\begin{align}\n",
    "x + y + z &= 2\\\\\n",
    "6x - 4y + 5z &= 31\\\\\n",
    "5x + 2y + 2z &=13\n",
    "\\end{align}\n",
    "\\;\n",
    "\\right|\n",
    "$$\n",
    "\n",
    "und $G_2$:\n",
    "\n",
    "$$\n",
    "\\left| \\;\n",
    "\\begin{align}\n",
    "x + y + z &= 2\\\\\n",
    "y - 3z &= 1\\\\\n",
    "2x + y + 5z &=0\n",
    "\\end{align}\n",
    "\\;\n",
    "\\right|\n",
    "$$"
   ]
  },
  {
   "cell_type": "markdown",
   "metadata": {},
   "source": [
    "mit den erweiterten Koeffizientenmatrizen"
   ]
  },
  {
   "cell_type": "code",
   "execution_count": null,
   "metadata": {},
   "outputs": [],
   "source": [
    "M1 = np.array( [[1,1,1,2],[6,-4,5,31],[5,2,2,13]] )\n",
    "M2 = np.array( [[1,1,1,2],[0,1,-3,1],[2,1,5,0]] )"
   ]
  },
  {
   "cell_type": "markdown",
   "metadata": {},
   "source": [
    "### a) Lösung mit Hilfe der Inversen (5P)\n",
    "\n",
    "Schreiben Sie eine Funktion `solve( M )`, die als Argument die erweiterte Koeffizientenmatrix eines linearen Gleichungssystems nimmt und es mittels der inversen Matrix löst. Probieren Sie Ihre Funktion an den beiden Gleichungssystemen $G_1$ und $G_2$ aus.\n",
    "\n",
    "**Hinweis**: Dieses Verfahren funktioniert nur für invertierbare Koeffizientenmatrizen. Geben Sie mit `raise Exception(\"<Ihre Fehlermeldung>\")` eine Fehlermeldung aus, falls die zu `M` gehörende Koeffizientenmatrix nicht invertierbar ist."
   ]
  },
  {
   "cell_type": "code",
   "execution_count": null,
   "metadata": {},
   "outputs": [],
   "source": [
    "# IHR CODE\n",
    "\n",
    "def getKoef(M):\n",
    "    return np.delete(M.copy(), np.shape(M)[1] - 1, 1)\n",
    "\n",
    "def getRes(M):\n",
    "    return M[:, np.shape(M)[1]-1].reshape((np.shape(M)[0],1))\n",
    "\n",
    "def solve(M):\n",
    "    return myInv(getKoef(M.copy()))@getRes(M.copy())\n",
    "\n",
    "display(Math(numpy2latex( np.isclose(solve(M1), np.linalg.solve(getKoef(M1.copy()), getRes(M1.copy()))) )))"
   ]
  },
  {
   "cell_type": "markdown",
   "metadata": {},
   "source": [
    "### b) Lösung mittels Cramer'scher Regel (5P)\n",
    "\n",
    "Schreiben Sie nun eine Funktion `cramer( M )`, die als Argument ebenfalls die erweiterte Koeffizientenmatrix eines linearen Gleichungssystems nimmt, aber jetzt die Cramer'sche Regel zur Lösung verwendet. Probieren Sie Ihre Funktion ebenfalls an den beiden Gleichungssystemen $G_1$ und $G_2$ aus.\n",
    "\n",
    "**Hinweis**: Hier funktioniert das Verfahren nur für Koeffizientenmatrizen mit Determinante ungleich Null, geben Sie ebenfalls falls nötig eine entsprechende Fehlermeldung aus."
   ]
  },
  {
   "cell_type": "code",
   "execution_count": null,
   "metadata": {},
   "outputs": [],
   "source": [
    "# IHR CODE\n",
    "def cramer(M):\n",
    "    return None"
   ]
  },
  {
   "cell_type": "markdown",
   "metadata": {},
   "source": [
    "### c) Performance (5P)\n",
    "\n",
    "Indem Sie [%timeit](https://ipython.readthedocs.io/en/stable/interactive/magics.html#magic-timeit) mit einem Leerzeichen vor den Aufruf der Funktion schreiben, können Sie Ihre beiden Funktionen `solve` und `cramer` jeweils mehrere Male laufen lassen und die durchschnittlich benötigte Laufzeit ausgeben lassen."
   ]
  },
  {
   "cell_type": "code",
   "execution_count": null,
   "metadata": {},
   "outputs": [],
   "source": [
    "# IHR CODE\n"
   ]
  },
  {
   "cell_type": "code",
   "execution_count": null,
   "metadata": {},
   "outputs": [],
   "source": [
    "# IHR CODE\n"
   ]
  },
  {
   "cell_type": "markdown",
   "metadata": {},
   "source": [
    "Mit `np.random.rand()` können Sie auch grössere Matrizen generieren. Es ist zu erwarten, dass die Unterschiede bei grossen Matrizen noch grösser werden. Zum Beispiel:"
   ]
  },
  {
   "cell_type": "code",
   "execution_count": null,
   "metadata": {},
   "outputs": [],
   "source": [
    "S = np.random.rand(20,21)"
   ]
  },
  {
   "cell_type": "markdown",
   "metadata": {},
   "source": [
    "Berechnen Sie auch hier die durchschnittlich benötigten Laufzeiten:"
   ]
  },
  {
   "cell_type": "code",
   "execution_count": null,
   "metadata": {},
   "outputs": [],
   "source": [
    "# IHR CODE\n"
   ]
  },
  {
   "cell_type": "code",
   "execution_count": null,
   "metadata": {},
   "outputs": [],
   "source": [
    "# IHR CODE\n"
   ]
  },
  {
   "cell_type": "markdown",
   "metadata": {},
   "source": [
    "Was stellen Sie fest? Welche Ihrer Funktionen ist effizienter?"
   ]
  },
  {
   "cell_type": "markdown",
   "metadata": {},
   "source": [
    "*Ihre Antwort in Markdown*"
   ]
  },
  {
   "cell_type": "markdown",
   "metadata": {},
   "source": [
    "### Freiwilliger Zusatz\n",
    "\n",
    "Überlegen Sie sich dazu auch, für welche spezifischen Problemfälle Sie 1) den Gaussalgorithmus, 2) die Inverse der Koeffizientenmatrix oder 3) die Cramer'sche Regel einsetzen würden (unterscheiden Sie dabei, ob Sie von Hand rechnen müssen oder den Computer benützen dürfen)."
   ]
  },
  {
   "cell_type": "code",
   "execution_count": 19,
   "metadata": {},
   "outputs": [
    {
     "name": "stdout",
     "output_type": "stream",
     "text": [
      "Matrix([[b11 + b21 + b31, b12 + b22 + b32, b13 + b23 + b33], [b11 + b21, b12 + b22, b13 + b23], [b11, b12, b13]])\n",
      "Matrix([[b11 + b12 + b13, b11 + b12, b11], [b21 + b22 + b23, b21 + b22, b21], [b31 + b32 + b33, b31 + b32, b31]])\n"
     ]
    }
   ],
   "source": [
    "import sympy as sym\n",
    "\n",
    "b11 = sym.symbols('b11')\n",
    "b12 = sym.symbols('b12')\n",
    "b13 = sym.symbols('b13')\n",
    "b21 = sym.symbols('b21')\n",
    "b22 = sym.symbols('b22')\n",
    "b23 = sym.symbols('b23')\n",
    "b31 = sym.symbols('b31')\n",
    "b32 = sym.symbols('b32')\n",
    "b33 = sym.symbols('b33')\n",
    "\n",
    "B = sym.Matrix([[b11, b12, b13], [b21, b22, b23], [b31, b32, b33]])\n",
    "A = sym.Matrix([[1,1,1], [1,1,0], [1,0,0]])\n",
    "\n",
    "AB = A*B\n",
    "print(AB)\n",
    "\n",
    "BA = B*A\n",
    "print(BA)"
   ]
  },
  {
   "cell_type": "code",
   "execution_count": 21,
   "outputs": [
    {
     "name": "stdout",
     "output_type": "stream",
     "text": [
      "Matrix([[-b12 - b13 + b21 + b31, -b11 + b22 + b32, -b11 + b13 + b23 + b33], [b11 - b22 - b23, b12 - b21, b13 - b21 + b23], [b11 - b31 - b32 - b33, b12 - b31 - b32, b13 - b31]])\n"
     ]
    }
   ],
   "source": [
    "gl = AB-BA\n",
    "print(gl)"
   ],
   "metadata": {
    "collapsed": false
   }
  }
 ],
 "metadata": {
  "kernelspec": {
   "display_name": "Python 3 (ipykernel)",
   "language": "python",
   "name": "python3"
  },
  "language_info": {
   "codemirror_mode": {
    "name": "ipython",
    "version": 3
   },
   "file_extension": ".py",
   "mimetype": "text/x-python",
   "name": "python",
   "nbconvert_exporter": "python",
   "pygments_lexer": "ipython3",
   "version": "3.10.7"
  }
 },
 "nbformat": 4,
 "nbformat_minor": 2
}
