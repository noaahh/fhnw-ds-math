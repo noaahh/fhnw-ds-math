{
 "cells": [
  {
   "cell_type": "markdown",
   "id": "b968547f",
   "metadata": {},
   "source": [
    "# Kick-off gan\n",
    "\n",
    "Roger Burkhardt\n",
    "\n",
    "20.9.2022 (HS22)"
   ]
  },
  {
   "cell_type": "markdown",
   "id": "771f0f34",
   "metadata": {},
   "source": [
    "Wir betrachten die **Koch'sche Insel**:\n",
    "\n",
    "![Koch_sche_Insel](Koch_sche_Insel.jpg)\n",
    "\n",
    "Ausgehend von einem gleichseitigen Dreieck mit der Seitenlänge $s_0=s$ wird fortlaufend auf jeder Seite (und auch auf den Seitenabschnitten) ein weiteres gleichseitiges Dreieck (Seitenlängen $s_1$, $s_2$, ...) angebracht, wobei die Seite (bzw. ein Seitenabschnitt) in drei gleich lange Abschnitte geteilt wird und auf dem mittleren Abschnitt das neue Dreieck platziert wird (siehe Grafik)."
   ]
  },
  {
   "cell_type": "markdown",
   "id": "aff6ba5d",
   "metadata": {},
   "source": [
    "Wir interessieren uns für die Fläche und den Umfang der so entstehenden Figur (welche eben als Koch'sche Insel, Koch'sche Schneeflocke oder auch als Koch'sche Kurve bekannt ist)."
   ]
  },
  {
   "cell_type": "markdown",
   "id": "95778ba7",
   "metadata": {},
   "source": [
    "## Seitenlänge, Höhe und Flächen der Dreiecke"
   ]
  },
  {
   "cell_type": "code",
   "execution_count": null,
   "id": "c8d29d9c",
   "metadata": {},
   "outputs": [],
   "source": []
  },
  {
   "cell_type": "markdown",
   "id": "ce89af6b",
   "metadata": {},
   "source": [
    "## Umfang"
   ]
  },
  {
   "cell_type": "code",
   "execution_count": null,
   "id": "9846f7f6",
   "metadata": {},
   "outputs": [],
   "source": []
  },
  {
   "cell_type": "markdown",
   "id": "84b681a1",
   "metadata": {},
   "source": [
    "## Fläche"
   ]
  },
  {
   "cell_type": "code",
   "execution_count": null,
   "id": "7e507aee",
   "metadata": {},
   "outputs": [],
   "source": []
  },
  {
   "cell_type": "code",
   "execution_count": null,
   "id": "2ebc4b57",
   "metadata": {},
   "outputs": [],
   "source": []
  }
 ],
 "metadata": {
  "kernelspec": {
   "display_name": "Python 3 (ipykernel)",
   "language": "python",
   "name": "python3"
  },
  "language_info": {
   "codemirror_mode": {
    "name": "ipython",
    "version": 3
   },
   "file_extension": ".py",
   "mimetype": "text/x-python",
   "name": "python",
   "nbconvert_exporter": "python",
   "pygments_lexer": "ipython3",
   "version": "3.9.10"
  }
 },
 "nbformat": 4,
 "nbformat_minor": 5
}
