{
 "cells": [
  {
   "cell_type": "markdown",
   "id": "288308ee",
   "metadata": {},
   "source": [
    "# Kick-off gan\n",
    "\n",
    "Roger Burkhardt\n",
    "\n",
    "20.9.2022 (HS22)"
   ]
  },
  {
   "cell_type": "markdown",
   "id": "44ada061",
   "metadata": {},
   "source": [
    "Wir betrachten die **Koch'sche Insel**:\n",
    "\n",
    "![Koch_sche_Insel](Koch_sche_Insel.jpg)\n",
    "\n",
    "Ausgehend von einem gleichseitigen Dreieck mit der Seitenlänge $s_0=s$ wird fortlaufend auf jeder Seite (und auch auf den Seitenabschnitten) ein weiteres gleichseitiges Dreieck (Seitenlängen $s_1$, $s_2$, ...) angebracht, wobei die Seite (bzw. ein Seitenabschnitt) in drei gleich lange Abschnitte geteilt wird und auf dem mittleren Abschnitt das neue Dreieck platziert wird (siehe Grafik)."
   ]
  },
  {
   "cell_type": "markdown",
   "id": "10eec267",
   "metadata": {},
   "source": [
    "Wir interessieren uns für die Fläche und den Umfang der so entstehenden Figur (welche eben als Koch'sche Insel, Koch'sche Schneeflocke oder auch als Koch'sche Kurve bekannt ist)."
   ]
  },
  {
   "cell_type": "markdown",
   "id": "d6b14ca3",
   "metadata": {},
   "source": [
    "## Seitenlänge, Höhe und Flächen der Dreiecke"
   ]
  },
  {
   "cell_type": "code",
   "execution_count": 1,
   "id": "436f7f3e",
   "metadata": {},
   "outputs": [
    {
     "name": "stdout",
     "output_type": "stream",
     "text": [
      "s_n = 0.333333333333333**n*s\n",
      "h_n = 0.333333333333333**n*sqrt(3)*s/2\n",
      "a_n = 0.333333333333333**(2*n)*sqrt(3)*s**2/2\n"
     ]
    }
   ],
   "source": [
    "import sympy as sym\n",
    "s = sym.symbols('s')\n",
    "n = sym.symbols('n')\n",
    "\n",
    "# Seitenlängen:\n",
    "s_0 = s\n",
    "s_1 = s_0/3\n",
    "s_2 = s_1/3\n",
    "s_3 = s_2/3\n",
    "# ...\n",
    "s_n = (1/3)**n*s\n",
    "print('s_n = {}'.format(s_n))\n",
    "\n",
    "# Höhen:\n",
    "h_0 = sym.sqrt(3)/2*s_0\n",
    "h_1 = sym.sqrt(3)/2*s_1\n",
    "h_2 = sym.sqrt(3)/2*s_2\n",
    "h_3 = sym.sqrt(3)/2*s_3\n",
    "# ...\n",
    "h_n = sym.sqrt(3)/2*(1/3)**n*s\n",
    "print('h_n = {}'.format(h_n))\n",
    "\n",
    "# Flächen:\n",
    "a_0 = 1/2*s_0*h_0\n",
    "a_1 = 1/2*s_1*h_1\n",
    "a_2 = 1/2*s_2*h_2\n",
    "a_3 = 1/2*s_3*h_3\n",
    "# ...\n",
    "a_n = sym.sqrt(3)/2*(1/3)**(2*n)*s**2\n",
    "print('a_n = {}'.format(a_n))\n"
   ]
  },
  {
   "cell_type": "markdown",
   "id": "005ab43b",
   "metadata": {},
   "source": [
    "## Umfang"
   ]
  },
  {
   "cell_type": "code",
   "execution_count": 7,
   "id": "5b39851f",
   "metadata": {},
   "outputs": [
    {
     "name": "stdout",
     "output_type": "stream",
     "text": [
      "U_n = 3*1.33333333333333**n*s\n",
      "U_oo = oo*sign(s)\n"
     ]
    },
    {
     "data": {
      "image/png": "[encoded data removed]",
      "text/plain": [
       "<Figure size 432x288 with 1 Axes>"
      ]
     },
     "metadata": {
      "needs_background": "light"
     },
     "output_type": "display_data"
    }
   ],
   "source": [
    "import numpy as np\n",
    "import matplotlib.pyplot as plt\n",
    "\n",
    "U_0 = 3*s_0\n",
    "U_1 = 3*4*s_1\n",
    "U_2 = 3*4*4*s_2\n",
    "U_3 = 3*4*4*4*s_3\n",
    "# ...\n",
    "U_n = 3*4**n*s_n\n",
    "print('U_n = {}'.format(U_n))\n",
    "\n",
    "nn = np.arange(0,101,1)\n",
    "UU = [U_n.evalf(subs={n:nk,s:1}) for nk in nn]\n",
    "\n",
    "plt.bar(nn,UU)\n",
    "\n",
    "U_oo = sym.limit(U_n,n,sym.oo)\n",
    "print('U_oo = {}'.format(U_oo))\n"
   ]
  },
  {
   "cell_type": "markdown",
   "id": "5322a668",
   "metadata": {},
   "source": [
    "## Fläche"
   ]
  },
  {
   "cell_type": "code",
   "execution_count": 11,
   "id": "45e2dbc3",
   "metadata": {},
   "outputs": [
    {
     "name": "stdout",
     "output_type": "stream",
     "text": [
      "A_n = sqrt(3)*s**2*(1.6 - 0.6*0.444444444444444**n)/4\n",
      "A_oo = 2*sqrt(3)*s**2/5\n"
     ]
    },
    {
     "data": {
      "image/png": "[encoded data removed]",
      "text/plain": [
       "<Figure size 432x288 with 1 Axes>"
      ]
     },
     "metadata": {
      "needs_background": "light"
     },
     "output_type": "display_data"
    }
   ],
   "source": [
    "A_0 = a_0\n",
    "A_1 = A_0+3*a_1\n",
    "A_2 = A_1+12*a_2\n",
    "A_3 = A_2+48*a_3\n",
    "# ...\n",
    "i = sym.symbols('i')\n",
    "A_n = sym.sqrt(3)/4*s**2*(1+1/3*sym.summation((4/9)**i,(i,0,n-1)))\n",
    "print('A_n = {}'.format(A_n))\n",
    "\n",
    "nn = np.arange(0,101,1)\n",
    "AA = [A_n.evalf(subs={n:nk,s:1}) for nk in nn]\n",
    "\n",
    "plt.bar(nn,AA)\n",
    "\n",
    "A_oo = sym.limit(A_n,n,sym.oo)\n",
    "print('A_oo = {}'.format(A_oo))"
   ]
  },
  {
   "cell_type": "code",
   "execution_count": null,
   "id": "7ee6779e",
   "metadata": {},
   "outputs": [],
   "source": []
  }
 ],
 "metadata": {
  "kernelspec": {
   "display_name": "Python 3 (ipykernel)",
   "language": "python",
   "name": "python3"
  },
  "language_info": {
   "codemirror_mode": {
    "name": "ipython",
    "version": 3
   },
   "file_extension": ".py",
   "mimetype": "text/x-python",
   "name": "python",
   "nbconvert_exporter": "python",
   "pygments_lexer": "ipython3",
   "version": "3.9.10"
  }
 },
 "nbformat": 4,
 "nbformat_minor": 5
}
