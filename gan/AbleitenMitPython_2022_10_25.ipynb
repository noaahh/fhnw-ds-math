{
 "cells": [
  {
   "cell_type": "markdown",
   "id": "43a121d7",
   "metadata": {},
   "source": [
    "# Ableitung mit Python (sympy.diff)"
   ]
  },
  {
   "cell_type": "code",
   "execution_count": 3,
   "id": "19f31126",
   "metadata": {},
   "outputs": [
    {
     "name": "stdout",
     "output_type": "stream",
     "text": [
      "A(x) = 2*x*(b - b*x**2/a**2)\n"
     ]
    }
   ],
   "source": [
    "import sympy as sym\n",
    "a,b = sym.symbols('a,b')\n",
    "x = sym.symbols('x')\n",
    "y = b-b/a**2*x**2\n",
    "A = 2*x*y\n",
    "print('A(x) = {}'.format(A))"
   ]
  },
  {
   "cell_type": "code",
   "execution_count": 5,
   "id": "cf92d070",
   "metadata": {},
   "outputs": [
    {
     "name": "stdout",
     "output_type": "stream",
     "text": [
      "dA/dx = 2*b - 6*b*x**2/a**2\n"
     ]
    }
   ],
   "source": [
    "dA_dx = sym.diff(A,x)\n",
    "print('dA/dx = {}'.format(dA_dx))"
   ]
  },
  {
   "cell_type": "code",
   "execution_count": 6,
   "id": "82932c5f",
   "metadata": {},
   "outputs": [
    {
     "name": "stdout",
     "output_type": "stream",
     "text": [
      "[-sqrt(3)*a/3, sqrt(3)*a/3]\n"
     ]
    }
   ],
   "source": [
    "lsg_x = sym.solve(dA_dx,x)\n",
    "print(lsg_x)"
   ]
  },
  {
   "cell_type": "code",
   "execution_count": null,
   "id": "87f09d8a",
   "metadata": {},
   "outputs": [],
   "source": []
  }
 ],
 "metadata": {
  "kernelspec": {
   "display_name": "Python 3 (ipykernel)",
   "language": "python",
   "name": "python3"
  },
  "language_info": {
   "codemirror_mode": {
    "name": "ipython",
    "version": 3
   },
   "file_extension": ".py",
   "mimetype": "text/x-python",
   "name": "python",
   "nbconvert_exporter": "python",
   "pygments_lexer": "ipython3",
   "version": "3.9.10"
  }
 },
 "nbformat": 4,
 "nbformat_minor": 5
}
