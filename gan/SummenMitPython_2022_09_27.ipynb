{
 "cells": [
  {
   "cell_type": "markdown",
   "id": "16a976f5",
   "metadata": {},
   "source": [
    "# Endliche Summen mit Python (sympy.summation)"
   ]
  },
  {
   "cell_type": "code",
   "execution_count": 1,
   "id": "69bfdd97",
   "metadata": {},
   "outputs": [],
   "source": [
    "import sympy as sym"
   ]
  },
  {
   "cell_type": "markdown",
   "id": "5784e36a",
   "metadata": {},
   "source": [
    "$$\n",
    "\\sum_{k=2}^{10}{2^k}=?\n",
    "$$"
   ]
  },
  {
   "cell_type": "code",
   "execution_count": 3,
   "id": "b1b5dabe",
   "metadata": {},
   "outputs": [
    {
     "name": "stdout",
     "output_type": "stream",
     "text": [
      "2044\n"
     ]
    }
   ],
   "source": [
    "k,n = sym.symbols('k,n')\n",
    "lsg = sym.summation(2**k,(k,2,10))\n",
    "print(lsg)"
   ]
  },
  {
   "cell_type": "markdown",
   "id": "bfba7b03",
   "metadata": {},
   "source": [
    "$$\n",
    "\\sum_{k=3}^{n-1}3^{2k-1}=?\n",
    "$$"
   ]
  },
  {
   "cell_type": "code",
   "execution_count": 4,
   "id": "04c2c7ef",
   "metadata": {},
   "outputs": [
    {
     "name": "stdout",
     "output_type": "stream",
     "text": [
      "9**n/24 - 243/8\n"
     ]
    }
   ],
   "source": [
    "lsg = sym.summation(3**(2*k-1),(k,3,n-1))\n",
    "print(lsg)"
   ]
  },
  {
   "cell_type": "markdown",
   "id": "9429786a",
   "metadata": {},
   "source": [
    "$$\n",
    "\\sum_{k=-1}^{15}{\\frac{2}{3^k}}=?\n",
    "$$"
   ]
  },
  {
   "cell_type": "code",
   "execution_count": 5,
   "id": "7de7b079",
   "metadata": {},
   "outputs": [
    {
     "name": "stdout",
     "output_type": "stream",
     "text": [
      "129140162/14348907\n"
     ]
    }
   ],
   "source": [
    "lsg = sym.summation(2/3**k,(k,-1,15))\n",
    "print(lsg)"
   ]
  },
  {
   "cell_type": "code",
   "execution_count": null,
   "id": "e02c61e2",
   "metadata": {},
   "outputs": [],
   "source": []
  }
 ],
 "metadata": {
  "kernelspec": {
   "display_name": "Python 3 (ipykernel)",
   "language": "python",
   "name": "python3"
  },
  "language_info": {
   "codemirror_mode": {
    "name": "ipython",
    "version": 3
   },
   "file_extension": ".py",
   "mimetype": "text/x-python",
   "name": "python",
   "nbconvert_exporter": "python",
   "pygments_lexer": "ipython3",
   "version": "3.9.10"
  }
 },
 "nbformat": 4,
 "nbformat_minor": 5
}
