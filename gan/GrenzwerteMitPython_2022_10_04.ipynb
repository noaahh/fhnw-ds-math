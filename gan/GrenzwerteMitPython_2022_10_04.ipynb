{
 "cells": [
  {
   "cell_type": "markdown",
   "id": "de0fed63",
   "metadata": {},
   "source": [
    "# Grenzwert von Zahlenfolgen (sympy.limit_seq)"
   ]
  },
  {
   "cell_type": "code",
   "execution_count": 1,
   "id": "14c9023d",
   "metadata": {},
   "outputs": [
    {
     "name": "stdout",
     "output_type": "stream",
     "text": [
      "h_n = -n + sqrt(n**2 + n)\n",
      "h_oo = 1/2\n"
     ]
    }
   ],
   "source": [
    "import sympy as sym\n",
    "n = sym.symbols('n')\n",
    "h_n = sym.sqrt(n**2+n)-n\n",
    "print('h_n = {}'.format(h_n))\n",
    "h_oo = sym.limit_seq(h_n,n)\n",
    "print('h_oo = {}'.format(h_oo))"
   ]
  },
  {
   "cell_type": "code",
   "execution_count": 2,
   "id": "b5a6d8b6",
   "metadata": {},
   "outputs": [
    {
     "name": "stdout",
     "output_type": "stream",
     "text": [
      "1\n"
     ]
    }
   ],
   "source": [
    "a_n = 1+(-1)**n/n\n",
    "a_oo = sym.limit_seq(a_n,n)\n",
    "print(a_oo)"
   ]
  },
  {
   "cell_type": "code",
   "execution_count": 3,
   "id": "2c8b7b2b",
   "metadata": {},
   "outputs": [
    {
     "name": "stdout",
     "output_type": "stream",
     "text": [
      "AccumBounds(exp(-1), E)\n"
     ]
    }
   ],
   "source": [
    "a_n = sym.exp((-1)**n)\n",
    "a_oo = sym.limit_seq(a_n,n)\n",
    "print(a_oo)"
   ]
  },
  {
   "cell_type": "markdown",
   "id": "a2ed3c58",
   "metadata": {},
   "source": [
    "# Quadratwurzel nach dem Verfahren von Heron"
   ]
  },
  {
   "cell_type": "code",
   "execution_count": 4,
   "id": "e3a3f9d4",
   "metadata": {},
   "outputs": [
    {
     "name": "stdout",
     "output_type": "stream",
     "text": [
      "sqrt(49) = 7.000000000000002 / berechnet mit sqrt : 7.0\n",
      "sqrt(50) = 7.071067811865477 / berechnet mit sqrt : 7.0710678118654755\n",
      "sqrt(51) = 7.14142842854285 / berechnet mit sqrt : 7.14142842854285\n"
     ]
    }
   ],
   "source": [
    "def heron(z,eps=1E-6):\n",
    "    b = (1+z)/2\n",
    "    a = z/b\n",
    "    b_alt = z\n",
    "    while abs(b-b_alt)>eps:\n",
    "        b_alt = b\n",
    "        b = (a+b)/2\n",
    "        a = z/b\n",
    "        #print(b)\n",
    "    return b\n",
    "\n",
    "import numpy as np\n",
    "print('sqrt(49) = {} / berechnet mit sqrt : {}'.format(heron(49),np.sqrt(49)))\n",
    "print('sqrt(50) = {} / berechnet mit sqrt : {}'.format(heron(50,1E-4),np.sqrt(50)))\n",
    "print('sqrt(51) = {} / berechnet mit sqrt : {}'.format(heron(51,1E-20),np.sqrt(51)))"
   ]
  },
  {
   "cell_type": "markdown",
   "id": "be32d096",
   "metadata": {},
   "source": [
    "# Grenzwert von Funktionen (sympy.limit)"
   ]
  },
  {
   "cell_type": "code",
   "execution_count": 5,
   "id": "99b50382",
   "metadata": {},
   "outputs": [
    {
     "name": "stdout",
     "output_type": "stream",
     "text": [
      "Funktionswert: nan\n",
      "-2\n",
      "-2\n",
      "-2\n",
      "Funktionswert: zoo\n",
      "-oo\n",
      "-oo\n",
      "oo\n",
      "Funktionswert: 0\n",
      "0\n",
      "0\n",
      "0\n"
     ]
    }
   ],
   "source": [
    "x = sym.symbols('x')\n",
    "f_x = (x-1)*(x-5)/(x**2-1)\n",
    "\n",
    "# x=> 1\n",
    "print('Funktionswert: {}'.format(f_x.subs({x:1})))\n",
    "f_1 = sym.limit(f_x,x,1)\n",
    "print(f_1)\n",
    "# x=> 1^(+)   (rechtsseitiger Grenzwert)\n",
    "f_1_p = sym.limit(f_x,x,1,'+')\n",
    "print(f_1_p)\n",
    "# x=> 1^(-)   (linksseitiger Grenzwert)\n",
    "f_1_m = sym.limit(f_x,x,1,'-')\n",
    "print(f_1_m)\n",
    "\n",
    "# x=> -1\n",
    "print('Funktionswert: {}'.format(f_x.subs({x:-1})))\n",
    "f_minus_1 = sym.limit(f_x,x,-1)\n",
    "print(f_minus_1)\n",
    "# x=> -1^(+)   (rechtsseitiger Grenzwert)\n",
    "f_minus_1_p = sym.limit(f_x,x,-1,'+')\n",
    "print(f_minus_1_p)\n",
    "# x=> -1^(-)   (linksseitiger Grenzwert)\n",
    "f_minus_1_m = sym.limit(f_x,x,-1,'-')\n",
    "print(f_minus_1_m)\n",
    "\n",
    "# x=> 5\n",
    "print('Funktionswert: {}'.format(f_x.subs({x:5})))\n",
    "f_5 = sym.limit(f_x,x,5)\n",
    "print(f_5)\n",
    "# x=> 5^(+)   (rechtsseitiger Grenzwert)\n",
    "f_5_p = sym.limit(f_x,x,5,'+')\n",
    "print(f_5_p)\n",
    "# x=> 5^(-)   (linksseitiger Grenzwert)\n",
    "f_5_m = sym.limit(f_x,x,5,'-')\n",
    "print(f_5_m)\n"
   ]
  },
  {
   "cell_type": "code",
   "execution_count": 6,
   "id": "3cb88939",
   "metadata": {},
   "outputs": [
    {
     "name": "stdout",
     "output_type": "stream",
     "text": [
      "Funktionswert: nan\n",
      "rechtsseitiger Grenzwert: 0\n",
      "linksseitiger Grenzwert: 0\n",
      "Grenzwert: 0\n"
     ]
    }
   ],
   "source": [
    "f_x = (x**2-2*x+1)/(x**2-1)\n",
    "f_1 = f_x.subs({x:1})\n",
    "print('Funktionswert: {}'.format(f_1))\n",
    "f_1_p = sym.limit(f_x,x,1,'+')\n",
    "print('rechtsseitiger Grenzwert: {}'.format(f_1_p))\n",
    "f_1_m = sym.limit(f_x,x,1,'-')\n",
    "print('linksseitiger Grenzwert: {}'.format(f_1_m))\n",
    "f_1 = sym.limit(f_x,x,1)\n",
    "print('Grenzwert: {}'.format(f_1))"
   ]
  },
  {
   "cell_type": "code",
   "execution_count": 7,
   "id": "f30648b5",
   "metadata": {},
   "outputs": [
    {
     "name": "stdout",
     "output_type": "stream",
     "text": [
      "Grenzwert: oo\n",
      "Grenzwert: 0\n"
     ]
    }
   ],
   "source": [
    "f_x = sym.exp(x)\n",
    "f_p_oo = sym.limit(f_x,x,sym.oo)\n",
    "print('Grenzwert: {}'.format(f_p_oo))\n",
    "f_m_oo = sym.limit(f_x,x,-sym.oo)\n",
    "print('Grenzwert: {}'.format(f_m_oo))"
   ]
  },
  {
   "cell_type": "code",
   "execution_count": 8,
   "id": "31437435",
   "metadata": {},
   "outputs": [
    {
     "name": "stdout",
     "output_type": "stream",
     "text": [
      "0\n",
      "oo\n",
      "0\n"
     ]
    }
   ],
   "source": [
    "f_x = sym.exp(-1/x)\n",
    "f_0_p = sym.limit(f_x,x,0,'+')\n",
    "print(f_0_p)\n",
    "f_0_m = sym.limit(f_x,x,0,'-')\n",
    "print(f_0_m)\n",
    "f_0 = sym.limit(f_x,x,0)\n",
    "print(f_0)"
   ]
  },
  {
   "cell_type": "code",
   "execution_count": null,
   "id": "9c453ccd",
   "metadata": {},
   "outputs": [],
   "source": []
  }
 ],
 "metadata": {
  "kernelspec": {
   "display_name": "Python 3 (ipykernel)",
   "language": "python",
   "name": "python3"
  },
  "language_info": {
   "codemirror_mode": {
    "name": "ipython",
    "version": 3
   },
   "file_extension": ".py",
   "mimetype": "text/x-python",
   "name": "python",
   "nbconvert_exporter": "python",
   "pygments_lexer": "ipython3",
   "version": "3.9.10"
  }
 },
 "nbformat": 4,
 "nbformat_minor": 5
}
